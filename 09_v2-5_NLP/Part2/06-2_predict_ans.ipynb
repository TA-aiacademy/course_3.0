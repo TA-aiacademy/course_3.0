{
 "cells": [
  {
   "cell_type": "markdown",
   "metadata": {},
   "source": [
    "# build model prediction and compare each features set"
   ]
  },
  {
   "cell_type": "code",
   "execution_count": 3,
   "metadata": {},
   "outputs": [],
   "source": [
    "import pandas as pd\n",
    "import xgboost as xgb\n",
    "import pickle\n",
    "import numpy as np\n",
    "import os\n",
    "\n",
    "from gensim.models import Doc2Vec, doc2vec"
   ]
  },
  {
   "cell_type": "code",
   "execution_count": 4,
   "metadata": {},
   "outputs": [],
   "source": [
    "# read preprocess article df\n",
    "df = pd.read_csv('Data/article_preprocessed.csv')"
   ]
  },
  {
   "cell_type": "code",
   "execution_count": 5,
   "metadata": {},
   "outputs": [],
   "source": [
    "# drop data\n",
    "diff_threshold = 20\n",
    "df = df[abs(df['push']-df['boo']) > diff_threshold].copy()"
   ]
  },
  {
   "cell_type": "code",
   "execution_count": 6,
   "metadata": {},
   "outputs": [],
   "source": [
    "# define y\n",
    "df['type'] = np.clip(df['push']-df['boo'], 0, 1)\n",
    "df = df.reset_index(drop=True)"
   ]
  },
  {
   "cell_type": "code",
   "execution_count": 7,
   "metadata": {},
   "outputs": [
    {
     "data": {
      "text/plain": [
       "1    17318\n",
       "0     1134\n",
       "Name: type, dtype: int64"
      ]
     },
     "execution_count": 7,
     "metadata": {},
     "output_type": "execute_result"
    }
   ],
   "source": [
    "df['type'].value_counts()"
   ]
  },
  {
   "cell_type": "code",
   "execution_count": 8,
   "metadata": {},
   "outputs": [],
   "source": [
    "# create a numpy format data\n",
    "basic_data = np.zeros((df.shape[0], 258))"
   ]
  },
  {
   "cell_type": "code",
   "execution_count": 9,
   "metadata": {},
   "outputs": [],
   "source": [
    "basic_data[:, 0] = df['idx']\n",
    "basic_data[:, 1] = df['type']"
   ]
  },
  {
   "cell_type": "markdown",
   "metadata": {},
   "source": [
    "## bag of words"
   ]
  },
  {
   "cell_type": "code",
   "execution_count": 10,
   "metadata": {},
   "outputs": [],
   "source": [
    "# load bag of words result\n",
    "with open('Data/article_count', 'rb') as file:\n",
    "    _, count = pickle.load(file)"
   ]
  },
  {
   "cell_type": "code",
   "execution_count": 11,
   "metadata": {},
   "outputs": [],
   "source": [
    "# select top 256 words (counts of document) \n",
    "most_count_id = np.array((count > 0).sum(axis=0))[0].argsort()[::-1][:256]"
   ]
  },
  {
   "cell_type": "code",
   "execution_count": 12,
   "metadata": {},
   "outputs": [],
   "source": [
    "# subset data\n",
    "count = count[:, most_count_id]"
   ]
  },
  {
   "cell_type": "code",
   "execution_count": 13,
   "metadata": {},
   "outputs": [],
   "source": [
    "count_data = basic_data.copy()"
   ]
  },
  {
   "cell_type": "code",
   "execution_count": 21,
   "metadata": {},
   "outputs": [],
   "source": [
    "# subset bag of words matrix\n",
    "count_data[:, 2:] = count[count_data[:, 0]].toarray()"
   ]
  },
  {
   "cell_type": "markdown",
   "metadata": {},
   "source": [
    "## TF-IDF"
   ]
  },
  {
   "cell_type": "code",
   "execution_count": 22,
   "metadata": {},
   "outputs": [],
   "source": [
    "# load tf-idf result\n",
    "with open('Data/article_tfidf', 'rb') as file:\n",
    "    _, tfidf = pickle.load(file)"
   ]
  },
  {
   "cell_type": "code",
   "execution_count": 23,
   "metadata": {},
   "outputs": [],
   "source": [
    "# select top 256 words (counts of document) \n",
    "most_tfidf_id = np.array((tfidf > 0).sum(axis=0))[0].argsort()[::-1][:256]"
   ]
  },
  {
   "cell_type": "code",
   "execution_count": 24,
   "metadata": {},
   "outputs": [],
   "source": [
    "# subset data\n",
    "tfidf = tfidf[:, most_tfidf_id]"
   ]
  },
  {
   "cell_type": "code",
   "execution_count": 25,
   "metadata": {},
   "outputs": [],
   "source": [
    "tfidf_data = basic_data.copy()"
   ]
  },
  {
   "cell_type": "code",
   "execution_count": 26,
   "metadata": {},
   "outputs": [],
   "source": [
    "# subset tf-idf matrix\n",
    "tfidf_data[:, 2:] = tfidf[tfidf_data[:, 0]].toarray()"
   ]
  },
  {
   "cell_type": "markdown",
   "metadata": {},
   "source": [
    "## average word2vec"
   ]
  },
  {
   "cell_type": "code",
   "execution_count": 27,
   "metadata": {},
   "outputs": [],
   "source": [
    "# load average word2vec result\n",
    "with open('Data/avg_article_vector', 'rb') as file:\n",
    "    avg_vector = pickle.load(file)"
   ]
  },
  {
   "cell_type": "code",
   "execution_count": 28,
   "metadata": {},
   "outputs": [],
   "source": [
    "avg_data = basic_data.copy()"
   ]
  },
  {
   "cell_type": "code",
   "execution_count": 29,
   "metadata": {},
   "outputs": [],
   "source": [
    "# select rows of average word2vec\n",
    "for i, row in df.iterrows():\n",
    "    avg_data[i, 2:] = avg_vector[row['idx']]"
   ]
  },
  {
   "cell_type": "markdown",
   "metadata": {},
   "source": [
    "## doc2vec"
   ]
  },
  {
   "cell_type": "code",
   "execution_count": 30,
   "metadata": {},
   "outputs": [],
   "source": [
    "# load doc2vec model\n",
    "model = Doc2Vec.load('word2vec_model/doc2vec')"
   ]
  },
  {
   "cell_type": "code",
   "execution_count": 31,
   "metadata": {},
   "outputs": [],
   "source": [
    "doc2vec_data = basic_data.copy()"
   ]
  },
  {
   "cell_type": "code",
   "execution_count": 32,
   "metadata": {
    "scrolled": true
   },
   "outputs": [],
   "source": [
    "# select idx of doc2vec\n",
    "for i, row in df.iterrows():\n",
    "    doc2vec_data[i, 2:] = model.docvecs[str(row['idx'])]"
   ]
  },
  {
   "cell_type": "markdown",
   "metadata": {},
   "source": [
    "# prediction model"
   ]
  },
  {
   "cell_type": "code",
   "execution_count": 33,
   "metadata": {},
   "outputs": [],
   "source": [
    "from sklearn.model_selection import train_test_split"
   ]
  },
  {
   "cell_type": "code",
   "execution_count": 34,
   "metadata": {},
   "outputs": [],
   "source": [
    "# split data to training and testing data\n",
    "train, test = train_test_split(df, test_size=0.2, stratify=df['type'])\n",
    "train_idx = np.array(train.index)\n",
    "test_idx = np.array(test.index)"
   ]
  },
  {
   "cell_type": "code",
   "execution_count": 47,
   "metadata": {},
   "outputs": [],
   "source": [
    "# define a dictionary to collect model result\n",
    "result = {}"
   ]
  },
  {
   "cell_type": "markdown",
   "metadata": {},
   "source": [
    "## train model use xgboost"
   ]
  },
  {
   "cell_type": "code",
   "execution_count": 48,
   "metadata": {
    "scrolled": true
   },
   "outputs": [
    {
     "name": "stdout",
     "output_type": "stream",
     "text": [
      "[0]\tvalidation_0-auc:0.547592\n",
      "[1]\tvalidation_0-auc:0.553713\n",
      "[2]\tvalidation_0-auc:0.57016\n",
      "[3]\tvalidation_0-auc:0.574974\n",
      "[4]\tvalidation_0-auc:0.579326\n",
      "[5]\tvalidation_0-auc:0.579448\n",
      "[6]\tvalidation_0-auc:0.579552\n",
      "[7]\tvalidation_0-auc:0.589814\n",
      "[8]\tvalidation_0-auc:0.589979\n",
      "[9]\tvalidation_0-auc:0.589978\n",
      "[10]\tvalidation_0-auc:0.589934\n",
      "[11]\tvalidation_0-auc:0.589983\n",
      "[12]\tvalidation_0-auc:0.602551\n",
      "[13]\tvalidation_0-auc:0.60241\n",
      "[14]\tvalidation_0-auc:0.602525\n",
      "[15]\tvalidation_0-auc:0.602591\n",
      "[16]\tvalidation_0-auc:0.626555\n",
      "[17]\tvalidation_0-auc:0.626641\n",
      "[18]\tvalidation_0-auc:0.628976\n",
      "[19]\tvalidation_0-auc:0.646033\n",
      "[20]\tvalidation_0-auc:0.640935\n",
      "[21]\tvalidation_0-auc:0.641034\n",
      "[22]\tvalidation_0-auc:0.647721\n",
      "[23]\tvalidation_0-auc:0.659341\n",
      "[24]\tvalidation_0-auc:0.659271\n",
      "[25]\tvalidation_0-auc:0.658962\n",
      "[26]\tvalidation_0-auc:0.662527\n",
      "[27]\tvalidation_0-auc:0.668517\n",
      "[28]\tvalidation_0-auc:0.682214\n",
      "[29]\tvalidation_0-auc:0.681801\n",
      "[30]\tvalidation_0-auc:0.681543\n",
      "[31]\tvalidation_0-auc:0.681024\n",
      "[32]\tvalidation_0-auc:0.683787\n",
      "[33]\tvalidation_0-auc:0.683601\n",
      "[34]\tvalidation_0-auc:0.683764\n",
      "[35]\tvalidation_0-auc:0.685052\n",
      "[36]\tvalidation_0-auc:0.690784\n",
      "[37]\tvalidation_0-auc:0.690113\n",
      "[38]\tvalidation_0-auc:0.69004\n",
      "[39]\tvalidation_0-auc:0.688661\n",
      "[40]\tvalidation_0-auc:0.688323\n",
      "[41]\tvalidation_0-auc:0.686136\n",
      "[42]\tvalidation_0-auc:0.688896\n",
      "[43]\tvalidation_0-auc:0.693992\n",
      "[44]\tvalidation_0-auc:0.692317\n",
      "[45]\tvalidation_0-auc:0.695441\n",
      "[46]\tvalidation_0-auc:0.694286\n",
      "[47]\tvalidation_0-auc:0.69885\n",
      "[48]\tvalidation_0-auc:0.696008\n",
      "[49]\tvalidation_0-auc:0.69815\n",
      "[50]\tvalidation_0-auc:0.696935\n",
      "[51]\tvalidation_0-auc:0.697814\n",
      "[52]\tvalidation_0-auc:0.6963\n",
      "[53]\tvalidation_0-auc:0.694857\n",
      "[54]\tvalidation_0-auc:0.698134\n",
      "[55]\tvalidation_0-auc:0.698959\n",
      "[56]\tvalidation_0-auc:0.701588\n",
      "[57]\tvalidation_0-auc:0.700147\n",
      "[58]\tvalidation_0-auc:0.7002\n",
      "[59]\tvalidation_0-auc:0.70147\n",
      "[60]\tvalidation_0-auc:0.704638\n",
      "[61]\tvalidation_0-auc:0.706988\n",
      "[62]\tvalidation_0-auc:0.708326\n",
      "[63]\tvalidation_0-auc:0.708946\n",
      "[64]\tvalidation_0-auc:0.709053\n",
      "[65]\tvalidation_0-auc:0.710621\n",
      "[66]\tvalidation_0-auc:0.712013\n",
      "[67]\tvalidation_0-auc:0.715324\n",
      "[68]\tvalidation_0-auc:0.716609\n",
      "[69]\tvalidation_0-auc:0.713788\n",
      "[70]\tvalidation_0-auc:0.715404\n",
      "[71]\tvalidation_0-auc:0.715713\n",
      "[72]\tvalidation_0-auc:0.71783\n",
      "[73]\tvalidation_0-auc:0.720059\n",
      "[74]\tvalidation_0-auc:0.719049\n",
      "[75]\tvalidation_0-auc:0.723184\n",
      "[76]\tvalidation_0-auc:0.723079\n",
      "[77]\tvalidation_0-auc:0.725138\n",
      "[78]\tvalidation_0-auc:0.725068\n",
      "[79]\tvalidation_0-auc:0.724972\n",
      "[80]\tvalidation_0-auc:0.723682\n",
      "[81]\tvalidation_0-auc:0.722648\n",
      "[82]\tvalidation_0-auc:0.722184\n",
      "[83]\tvalidation_0-auc:0.722741\n",
      "[84]\tvalidation_0-auc:0.722728\n",
      "[85]\tvalidation_0-auc:0.722095\n",
      "[86]\tvalidation_0-auc:0.723151\n",
      "[87]\tvalidation_0-auc:0.722153\n",
      "[88]\tvalidation_0-auc:0.722752\n",
      "[89]\tvalidation_0-auc:0.721996\n",
      "[90]\tvalidation_0-auc:0.722573\n",
      "[91]\tvalidation_0-auc:0.723966\n",
      "[92]\tvalidation_0-auc:0.723833\n",
      "[93]\tvalidation_0-auc:0.724562\n",
      "[94]\tvalidation_0-auc:0.724334\n",
      "[95]\tvalidation_0-auc:0.724717\n",
      "[96]\tvalidation_0-auc:0.725074\n",
      "[97]\tvalidation_0-auc:0.725336\n",
      "[98]\tvalidation_0-auc:0.725665\n",
      "[99]\tvalidation_0-auc:0.725993\n"
     ]
    }
   ],
   "source": [
    "# bag of words\n",
    "model = xgb.XGBClassifier()\n",
    "model.fit(count_data[train_idx, 2:], count_data[train_idx, 1], \n",
    "          eval_set=[(count_data[test_idx, 2:], count_data[test_idx, 1])], eval_metric='auc'\n",
    "         )\n",
    "\n",
    "# testing auc\n",
    "result['bag_of_words'] = model.evals_result()['validation_0']['auc'][-1]"
   ]
  },
  {
   "cell_type": "code",
   "execution_count": 49,
   "metadata": {
    "scrolled": true
   },
   "outputs": [
    {
     "name": "stdout",
     "output_type": "stream",
     "text": [
      "[0]\tvalidation_0-auc:0.547592\n",
      "[1]\tvalidation_0-auc:0.553713\n",
      "[2]\tvalidation_0-auc:0.57016\n",
      "[3]\tvalidation_0-auc:0.574974\n",
      "[4]\tvalidation_0-auc:0.579326\n",
      "[5]\tvalidation_0-auc:0.579448\n",
      "[6]\tvalidation_0-auc:0.579552\n",
      "[7]\tvalidation_0-auc:0.589814\n",
      "[8]\tvalidation_0-auc:0.589979\n",
      "[9]\tvalidation_0-auc:0.589978\n",
      "[10]\tvalidation_0-auc:0.589934\n",
      "[11]\tvalidation_0-auc:0.589983\n",
      "[12]\tvalidation_0-auc:0.602551\n",
      "[13]\tvalidation_0-auc:0.60241\n",
      "[14]\tvalidation_0-auc:0.602525\n",
      "[15]\tvalidation_0-auc:0.602591\n",
      "[16]\tvalidation_0-auc:0.626555\n",
      "[17]\tvalidation_0-auc:0.626641\n",
      "[18]\tvalidation_0-auc:0.628976\n",
      "[19]\tvalidation_0-auc:0.646033\n",
      "[20]\tvalidation_0-auc:0.640935\n",
      "[21]\tvalidation_0-auc:0.641034\n",
      "[22]\tvalidation_0-auc:0.647721\n",
      "[23]\tvalidation_0-auc:0.659341\n",
      "[24]\tvalidation_0-auc:0.659271\n",
      "[25]\tvalidation_0-auc:0.658962\n",
      "[26]\tvalidation_0-auc:0.662527\n",
      "[27]\tvalidation_0-auc:0.668517\n",
      "[28]\tvalidation_0-auc:0.682214\n",
      "[29]\tvalidation_0-auc:0.681801\n",
      "[30]\tvalidation_0-auc:0.681543\n",
      "[31]\tvalidation_0-auc:0.681024\n",
      "[32]\tvalidation_0-auc:0.683787\n",
      "[33]\tvalidation_0-auc:0.683601\n",
      "[34]\tvalidation_0-auc:0.683764\n",
      "[35]\tvalidation_0-auc:0.685052\n",
      "[36]\tvalidation_0-auc:0.690784\n",
      "[37]\tvalidation_0-auc:0.690113\n",
      "[38]\tvalidation_0-auc:0.69004\n",
      "[39]\tvalidation_0-auc:0.688661\n",
      "[40]\tvalidation_0-auc:0.688323\n",
      "[41]\tvalidation_0-auc:0.686136\n",
      "[42]\tvalidation_0-auc:0.688896\n",
      "[43]\tvalidation_0-auc:0.693992\n",
      "[44]\tvalidation_0-auc:0.692317\n",
      "[45]\tvalidation_0-auc:0.695441\n",
      "[46]\tvalidation_0-auc:0.694286\n",
      "[47]\tvalidation_0-auc:0.69885\n",
      "[48]\tvalidation_0-auc:0.696008\n",
      "[49]\tvalidation_0-auc:0.69815\n",
      "[50]\tvalidation_0-auc:0.696935\n",
      "[51]\tvalidation_0-auc:0.697814\n",
      "[52]\tvalidation_0-auc:0.6963\n",
      "[53]\tvalidation_0-auc:0.694857\n",
      "[54]\tvalidation_0-auc:0.698134\n",
      "[55]\tvalidation_0-auc:0.698959\n",
      "[56]\tvalidation_0-auc:0.701588\n",
      "[57]\tvalidation_0-auc:0.700147\n",
      "[58]\tvalidation_0-auc:0.7002\n",
      "[59]\tvalidation_0-auc:0.70147\n",
      "[60]\tvalidation_0-auc:0.704638\n",
      "[61]\tvalidation_0-auc:0.706988\n",
      "[62]\tvalidation_0-auc:0.708326\n",
      "[63]\tvalidation_0-auc:0.708946\n",
      "[64]\tvalidation_0-auc:0.709053\n",
      "[65]\tvalidation_0-auc:0.710621\n",
      "[66]\tvalidation_0-auc:0.712013\n",
      "[67]\tvalidation_0-auc:0.715324\n",
      "[68]\tvalidation_0-auc:0.716609\n",
      "[69]\tvalidation_0-auc:0.713788\n",
      "[70]\tvalidation_0-auc:0.715404\n",
      "[71]\tvalidation_0-auc:0.715713\n",
      "[72]\tvalidation_0-auc:0.71783\n",
      "[73]\tvalidation_0-auc:0.720059\n",
      "[74]\tvalidation_0-auc:0.719049\n",
      "[75]\tvalidation_0-auc:0.723184\n",
      "[76]\tvalidation_0-auc:0.723079\n",
      "[77]\tvalidation_0-auc:0.725138\n",
      "[78]\tvalidation_0-auc:0.725068\n",
      "[79]\tvalidation_0-auc:0.724972\n",
      "[80]\tvalidation_0-auc:0.723682\n",
      "[81]\tvalidation_0-auc:0.722648\n",
      "[82]\tvalidation_0-auc:0.722184\n",
      "[83]\tvalidation_0-auc:0.722741\n",
      "[84]\tvalidation_0-auc:0.722728\n",
      "[85]\tvalidation_0-auc:0.722095\n",
      "[86]\tvalidation_0-auc:0.723151\n",
      "[87]\tvalidation_0-auc:0.722153\n",
      "[88]\tvalidation_0-auc:0.722752\n",
      "[89]\tvalidation_0-auc:0.721996\n",
      "[90]\tvalidation_0-auc:0.722573\n",
      "[91]\tvalidation_0-auc:0.723966\n",
      "[92]\tvalidation_0-auc:0.723833\n",
      "[93]\tvalidation_0-auc:0.724562\n",
      "[94]\tvalidation_0-auc:0.724334\n",
      "[95]\tvalidation_0-auc:0.724717\n",
      "[96]\tvalidation_0-auc:0.725074\n",
      "[97]\tvalidation_0-auc:0.725336\n",
      "[98]\tvalidation_0-auc:0.725665\n",
      "[99]\tvalidation_0-auc:0.725993\n"
     ]
    }
   ],
   "source": [
    "# tf-idf\n",
    "model = xgb.XGBClassifier()\n",
    "model.fit(tfidf_data[train_idx, 2:], tfidf_data[train_idx, 1], \n",
    "          eval_set=[(tfidf_data[test_idx, 2:], tfidf_data[test_idx, 1])], eval_metric='auc'\n",
    "         )\n",
    "\n",
    "# testing auc\n",
    "result['tf-idf'] = model.evals_result()['validation_0']['auc'][-1]"
   ]
  },
  {
   "cell_type": "code",
   "execution_count": 50,
   "metadata": {
    "scrolled": true
   },
   "outputs": [
    {
     "name": "stdout",
     "output_type": "stream",
     "text": [
      "[0]\tvalidation_0-auc:0.649113\n",
      "[1]\tvalidation_0-auc:0.726836\n",
      "[2]\tvalidation_0-auc:0.714625\n",
      "[3]\tvalidation_0-auc:0.723442\n",
      "[4]\tvalidation_0-auc:0.735306\n",
      "[5]\tvalidation_0-auc:0.738055\n",
      "[6]\tvalidation_0-auc:0.751799\n",
      "[7]\tvalidation_0-auc:0.753846\n",
      "[8]\tvalidation_0-auc:0.764811\n",
      "[9]\tvalidation_0-auc:0.764999\n",
      "[10]\tvalidation_0-auc:0.773846\n",
      "[11]\tvalidation_0-auc:0.774445\n",
      "[12]\tvalidation_0-auc:0.780314\n",
      "[13]\tvalidation_0-auc:0.776284\n",
      "[14]\tvalidation_0-auc:0.779748\n",
      "[15]\tvalidation_0-auc:0.782091\n",
      "[16]\tvalidation_0-auc:0.784644\n",
      "[17]\tvalidation_0-auc:0.789759\n",
      "[18]\tvalidation_0-auc:0.79107\n",
      "[19]\tvalidation_0-auc:0.791459\n",
      "[20]\tvalidation_0-auc:0.792068\n",
      "[21]\tvalidation_0-auc:0.794516\n",
      "[22]\tvalidation_0-auc:0.798084\n",
      "[23]\tvalidation_0-auc:0.799264\n",
      "[24]\tvalidation_0-auc:0.800731\n",
      "[25]\tvalidation_0-auc:0.799307\n",
      "[26]\tvalidation_0-auc:0.804461\n",
      "[27]\tvalidation_0-auc:0.804739\n",
      "[28]\tvalidation_0-auc:0.807147\n",
      "[29]\tvalidation_0-auc:0.806204\n",
      "[30]\tvalidation_0-auc:0.81026\n",
      "[31]\tvalidation_0-auc:0.809062\n",
      "[32]\tvalidation_0-auc:0.809492\n",
      "[33]\tvalidation_0-auc:0.81058\n",
      "[34]\tvalidation_0-auc:0.812665\n",
      "[35]\tvalidation_0-auc:0.816856\n",
      "[36]\tvalidation_0-auc:0.81874\n",
      "[37]\tvalidation_0-auc:0.820514\n",
      "[38]\tvalidation_0-auc:0.823051\n",
      "[39]\tvalidation_0-auc:0.824346\n",
      "[40]\tvalidation_0-auc:0.825313\n",
      "[41]\tvalidation_0-auc:0.826605\n",
      "[42]\tvalidation_0-auc:0.828133\n",
      "[43]\tvalidation_0-auc:0.830767\n",
      "[44]\tvalidation_0-auc:0.832216\n",
      "[45]\tvalidation_0-auc:0.834114\n",
      "[46]\tvalidation_0-auc:0.836681\n",
      "[47]\tvalidation_0-auc:0.837877\n",
      "[48]\tvalidation_0-auc:0.839233\n",
      "[49]\tvalidation_0-auc:0.839249\n",
      "[50]\tvalidation_0-auc:0.840209\n",
      "[51]\tvalidation_0-auc:0.839586\n",
      "[52]\tvalidation_0-auc:0.839866\n",
      "[53]\tvalidation_0-auc:0.839736\n",
      "[54]\tvalidation_0-auc:0.841223\n",
      "[55]\tvalidation_0-auc:0.842002\n",
      "[56]\tvalidation_0-auc:0.844012\n",
      "[57]\tvalidation_0-auc:0.844711\n",
      "[58]\tvalidation_0-auc:0.845128\n",
      "[59]\tvalidation_0-auc:0.84603\n",
      "[60]\tvalidation_0-auc:0.845957\n",
      "[61]\tvalidation_0-auc:0.847298\n",
      "[62]\tvalidation_0-auc:0.846475\n",
      "[63]\tvalidation_0-auc:0.84821\n",
      "[64]\tvalidation_0-auc:0.848547\n",
      "[65]\tvalidation_0-auc:0.848902\n",
      "[66]\tvalidation_0-auc:0.849208\n",
      "[67]\tvalidation_0-auc:0.8501\n",
      "[68]\tvalidation_0-auc:0.85093\n",
      "[69]\tvalidation_0-auc:0.851516\n",
      "[70]\tvalidation_0-auc:0.851893\n",
      "[71]\tvalidation_0-auc:0.852286\n",
      "[72]\tvalidation_0-auc:0.852172\n",
      "[73]\tvalidation_0-auc:0.852713\n",
      "[74]\tvalidation_0-auc:0.8529\n",
      "[75]\tvalidation_0-auc:0.852853\n",
      "[76]\tvalidation_0-auc:0.853002\n",
      "[77]\tvalidation_0-auc:0.853323\n",
      "[78]\tvalidation_0-auc:0.852715\n",
      "[79]\tvalidation_0-auc:0.853559\n",
      "[80]\tvalidation_0-auc:0.853826\n",
      "[81]\tvalidation_0-auc:0.853434\n",
      "[82]\tvalidation_0-auc:0.853129\n",
      "[83]\tvalidation_0-auc:0.853929\n",
      "[84]\tvalidation_0-auc:0.854853\n",
      "[85]\tvalidation_0-auc:0.855432\n",
      "[86]\tvalidation_0-auc:0.855542\n",
      "[87]\tvalidation_0-auc:0.856862\n",
      "[88]\tvalidation_0-auc:0.856613\n",
      "[89]\tvalidation_0-auc:0.856222\n",
      "[90]\tvalidation_0-auc:0.856466\n",
      "[91]\tvalidation_0-auc:0.856696\n",
      "[92]\tvalidation_0-auc:0.856566\n",
      "[93]\tvalidation_0-auc:0.857768\n",
      "[94]\tvalidation_0-auc:0.857748\n",
      "[95]\tvalidation_0-auc:0.857755\n",
      "[96]\tvalidation_0-auc:0.857496\n",
      "[97]\tvalidation_0-auc:0.857374\n",
      "[98]\tvalidation_0-auc:0.857083\n",
      "[99]\tvalidation_0-auc:0.857378\n"
     ]
    }
   ],
   "source": [
    "# average word2vec\n",
    "model = xgb.XGBClassifier()\n",
    "model.fit(avg_data[train_idx, 2:], avg_data[train_idx, 1], \n",
    "          eval_set=[(avg_data[test_idx, 2:], avg_data[test_idx, 1])], eval_metric='auc'\n",
    "         )\n",
    "\n",
    "# testing auc\n",
    "result['avg_word2vec'] = model.evals_result()['validation_0']['auc'][-1]"
   ]
  },
  {
   "cell_type": "code",
   "execution_count": 51,
   "metadata": {
    "scrolled": true
   },
   "outputs": [
    {
     "name": "stdout",
     "output_type": "stream",
     "text": [
      "[0]\tvalidation_0-auc:0.622283\n",
      "[1]\tvalidation_0-auc:0.641037\n",
      "[2]\tvalidation_0-auc:0.664336\n",
      "[3]\tvalidation_0-auc:0.681412\n",
      "[4]\tvalidation_0-auc:0.67625\n",
      "[5]\tvalidation_0-auc:0.687145\n",
      "[6]\tvalidation_0-auc:0.686344\n",
      "[7]\tvalidation_0-auc:0.691653\n",
      "[8]\tvalidation_0-auc:0.688248\n",
      "[9]\tvalidation_0-auc:0.692329\n",
      "[10]\tvalidation_0-auc:0.695032\n",
      "[11]\tvalidation_0-auc:0.696109\n",
      "[12]\tvalidation_0-auc:0.696987\n",
      "[13]\tvalidation_0-auc:0.702816\n",
      "[14]\tvalidation_0-auc:0.700369\n",
      "[15]\tvalidation_0-auc:0.70391\n",
      "[16]\tvalidation_0-auc:0.701605\n",
      "[17]\tvalidation_0-auc:0.704016\n",
      "[18]\tvalidation_0-auc:0.704488\n",
      "[19]\tvalidation_0-auc:0.703941\n",
      "[20]\tvalidation_0-auc:0.701632\n",
      "[21]\tvalidation_0-auc:0.709994\n",
      "[22]\tvalidation_0-auc:0.712355\n",
      "[23]\tvalidation_0-auc:0.721086\n",
      "[24]\tvalidation_0-auc:0.72171\n",
      "[25]\tvalidation_0-auc:0.724511\n",
      "[26]\tvalidation_0-auc:0.731958\n",
      "[27]\tvalidation_0-auc:0.736956\n",
      "[28]\tvalidation_0-auc:0.742109\n",
      "[29]\tvalidation_0-auc:0.745728\n",
      "[30]\tvalidation_0-auc:0.747806\n",
      "[31]\tvalidation_0-auc:0.749933\n",
      "[32]\tvalidation_0-auc:0.753406\n",
      "[33]\tvalidation_0-auc:0.754098\n",
      "[34]\tvalidation_0-auc:0.757084\n",
      "[35]\tvalidation_0-auc:0.75785\n",
      "[36]\tvalidation_0-auc:0.758105\n",
      "[37]\tvalidation_0-auc:0.756846\n",
      "[38]\tvalidation_0-auc:0.761649\n",
      "[39]\tvalidation_0-auc:0.765024\n",
      "[40]\tvalidation_0-auc:0.766651\n",
      "[41]\tvalidation_0-auc:0.769032\n",
      "[42]\tvalidation_0-auc:0.773119\n",
      "[43]\tvalidation_0-auc:0.772913\n",
      "[44]\tvalidation_0-auc:0.77643\n",
      "[45]\tvalidation_0-auc:0.775757\n",
      "[46]\tvalidation_0-auc:0.773947\n",
      "[47]\tvalidation_0-auc:0.775303\n",
      "[48]\tvalidation_0-auc:0.776321\n",
      "[49]\tvalidation_0-auc:0.774665\n",
      "[50]\tvalidation_0-auc:0.773867\n",
      "[51]\tvalidation_0-auc:0.775514\n",
      "[52]\tvalidation_0-auc:0.775769\n",
      "[53]\tvalidation_0-auc:0.777871\n",
      "[54]\tvalidation_0-auc:0.779588\n",
      "[55]\tvalidation_0-auc:0.77911\n",
      "[56]\tvalidation_0-auc:0.778852\n",
      "[57]\tvalidation_0-auc:0.779114\n",
      "[58]\tvalidation_0-auc:0.781124\n",
      "[59]\tvalidation_0-auc:0.783073\n",
      "[60]\tvalidation_0-auc:0.783644\n",
      "[61]\tvalidation_0-auc:0.783922\n",
      "[62]\tvalidation_0-auc:0.784522\n",
      "[63]\tvalidation_0-auc:0.785453\n",
      "[64]\tvalidation_0-auc:0.785984\n",
      "[65]\tvalidation_0-auc:0.785537\n",
      "[66]\tvalidation_0-auc:0.784797\n",
      "[67]\tvalidation_0-auc:0.785113\n",
      "[68]\tvalidation_0-auc:0.78565\n",
      "[69]\tvalidation_0-auc:0.788818\n",
      "[70]\tvalidation_0-auc:0.790783\n",
      "[71]\tvalidation_0-auc:0.791844\n",
      "[72]\tvalidation_0-auc:0.79178\n",
      "[73]\tvalidation_0-auc:0.792159\n",
      "[74]\tvalidation_0-auc:0.791057\n",
      "[75]\tvalidation_0-auc:0.790689\n",
      "[76]\tvalidation_0-auc:0.791855\n",
      "[77]\tvalidation_0-auc:0.791807\n",
      "[78]\tvalidation_0-auc:0.79196\n",
      "[79]\tvalidation_0-auc:0.792923\n",
      "[80]\tvalidation_0-auc:0.795033\n",
      "[81]\tvalidation_0-auc:0.796561\n",
      "[82]\tvalidation_0-auc:0.797527\n",
      "[83]\tvalidation_0-auc:0.798492\n",
      "[84]\tvalidation_0-auc:0.7977\n",
      "[85]\tvalidation_0-auc:0.797985\n",
      "[86]\tvalidation_0-auc:0.798286\n",
      "[87]\tvalidation_0-auc:0.800915\n",
      "[88]\tvalidation_0-auc:0.802342\n",
      "[89]\tvalidation_0-auc:0.802559\n",
      "[90]\tvalidation_0-auc:0.802266\n",
      "[91]\tvalidation_0-auc:0.802565\n",
      "[92]\tvalidation_0-auc:0.803071\n",
      "[93]\tvalidation_0-auc:0.802944\n",
      "[94]\tvalidation_0-auc:0.802502\n",
      "[95]\tvalidation_0-auc:0.803558\n",
      "[96]\tvalidation_0-auc:0.803365\n",
      "[97]\tvalidation_0-auc:0.803283\n",
      "[98]\tvalidation_0-auc:0.803207\n",
      "[99]\tvalidation_0-auc:0.80356\n"
     ]
    }
   ],
   "source": [
    "# doc2vec\n",
    "model = xgb.XGBClassifier()\n",
    "model.fit(doc2vec_data[train_idx, 2:], doc2vec_data[train_idx, 1],\n",
    "          eval_set=[(doc2vec_data[test_idx, 2:], doc2vec_data[test_idx, 1])], eval_metric='auc'\n",
    "         )\n",
    "\n",
    "# testing auc\n",
    "result['doc2vec'] = model.evals_result()['validation_0']['auc'][-1]"
   ]
  },
  {
   "cell_type": "markdown",
   "metadata": {},
   "source": [
    "## plot result"
   ]
  },
  {
   "cell_type": "code",
   "execution_count": 52,
   "metadata": {},
   "outputs": [],
   "source": [
    "import matplotlib.pyplot as plt"
   ]
  },
  {
   "cell_type": "code",
   "execution_count": 53,
   "metadata": {},
   "outputs": [
    {
     "data": {
      "image/png": "[encoded data removed]",
      "text/plain": [
       "<matplotlib.figure.Figure at 0x7f3a01397b00>"
      ]
     },
     "metadata": {},
     "output_type": "display_data"
    }
   ],
   "source": [
    "plt.bar(np.arange(4), result.values())\n",
    "plt.xticks(np.arange(4), result.keys())\n",
    "plt.show()"
   ]
  },
  {
   "cell_type": "code",
   "execution_count": null,
   "metadata": {},
   "outputs": [],
   "source": []
  }
 ],
 "metadata": {
  "kernelspec": {
   "display_name": "Python 3 (ipykernel)",
   "language": "python",
   "name": "python3"
  },
  "language_info": {
   "codemirror_mode": {
    "name": "ipython",
    "version": 3
   },
   "file_extension": ".py",
   "mimetype": "text/x-python",
   "name": "python",
   "nbconvert_exporter": "python",
   "pygments_lexer": "ipython3",
   "version": "3.7.12"
  }
 },
 "nbformat": 4,
 "nbformat_minor": 4
}
