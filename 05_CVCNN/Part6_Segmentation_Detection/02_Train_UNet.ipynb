{
  "cells": [
    {
      "cell_type": "markdown",
      "id": "43a5cdc0",
      "metadata": {
        "id": "43a5cdc0"
      },
      "source": [
        "### 在資料集上測試 (MVtech)\n",
        "資料集: \n",
        "> THE MVTEC ANOMALY DETECTION DATASET (MVTEC AD)\n",
        "> https://www.mvtec.com/company/research/datasets/mvtec-ad\n",
        "\n",
        "\n",
        "<img src=\"https://www.mvtec.com/fileadmin/Redaktion/mvtec.com/company/research/datasets/dataset_overview_large.png\" alt=\"drawing\" width=\"400\"/>"
      ]
    },
    {
      "cell_type": "code",
      "source": [
        "!wget https://github.com/TA-aiacademy/course_3.0/releases/download/CVCNN_Data/unet.py"
      ],
      "metadata": {
        "id": "FRAXEtSRXlmW"
      },
      "id": "FRAXEtSRXlmW",
      "execution_count": null,
      "outputs": []
    },
    {
      "cell_type": "code",
      "execution_count": null,
      "id": "440b1313",
      "metadata": {
        "id": "440b1313"
      },
      "outputs": [],
      "source": [
        "import os\n",
        "import cv2\n",
        "\n",
        "import numpy as np\n",
        "import matplotlib.pyplot as plt\n",
        "import tensorflow as tf\n",
        "from tensorflow.keras import Input, Model, Sequential, layers\n",
        "from tensorflow.keras.preprocessing.image import array_to_img, img_to_array\n",
        "from functools import partial\n",
        "from IPython.display import display\n",
        "\n",
        "from sklearn.model_selection import train_test_split\n",
        "\n",
        "from unet import UNet\n",
        "\n",
        "import albumentations as A\n",
        "from albumentations import DualTransform\n",
        "from typing_extensions import Concatenate\n",
        "from typing_extensions import Concatenate"
      ]
    },
    {
      "cell_type": "code",
      "execution_count": null,
      "id": "eef8e53d",
      "metadata": {
        "id": "eef8e53d"
      },
      "outputs": [],
      "source": [
        "import warnings\n",
        "warnings.filterwarnings(\"ignore\")"
      ]
    },
    {
      "cell_type": "code",
      "execution_count": null,
      "id": "53db0ae9",
      "metadata": {
        "id": "53db0ae9"
      },
      "outputs": [],
      "source": [
        "BATCH_SIZE = 16\n",
        "NUM_LABELS = 1\n",
        "WIDTH = 128\n",
        "HEIGHT = 128"
      ]
    },
    {
      "cell_type": "code",
      "execution_count": null,
      "id": "412d8929",
      "metadata": {
        "id": "412d8929"
      },
      "outputs": [],
      "source": [
        "unet = UNet(num_class=1, padding='same', retain_dim=(WIDTH, HEIGHT))\n",
        "x = np.zeros((1, HEIGHT, WIDTH, 3), dtype=np.float32)\n",
        "y_pred = unet(x)\n",
        "print(y_pred.shape)\n",
        "del unet"
      ]
    },
    {
      "cell_type": "code",
      "execution_count": null,
      "id": "dc4f9ea6",
      "metadata": {
        "id": "dc4f9ea6"
      },
      "outputs": [],
      "source": [
        "cmd = '''mkdir ./data\n",
        "wget -q https://www.mydrive.ch/shares/38536/3830184030e49fe74747669442f0f282/download/420937454-1629951595/capsule.tar.xz -O data/MVtech-capsule.tar.xz\n",
        "tar -Jxf data/MVtech-capsule.tar.xz --overwrite --directory ./data\n",
        "'''\n",
        "if not os.path.isdir('./data/capsule'):\n",
        "    for i in cmd.split('\\n'):\n",
        "        os.system(i)"
      ]
    },
    {
      "cell_type": "code",
      "execution_count": null,
      "id": "8fa7fd0d",
      "metadata": {
        "id": "8fa7fd0d"
      },
      "outputs": [],
      "source": [
        "item = 'capsule'\n",
        "path = os.getcwd()\n",
        "img_dir = f'{path}/data/{item}/test/scratch/'\n",
        "print(len(os.listdir(img_dir)))\n",
        "anno_dir = f'{path}/data/{item}/ground_truth/scratch/'"
      ]
    },
    {
      "cell_type": "markdown",
      "id": "c54631af",
      "metadata": {
        "id": "c54631af"
      },
      "source": [
        "### 取得 image list\n",
        "輸出: data_dic (字典)\n",
        "- key: X_train, X_test, y_train, y_test"
      ]
    },
    {
      "cell_type": "code",
      "execution_count": null,
      "id": "c125e7a9",
      "metadata": {
        "id": "c125e7a9"
      },
      "outputs": [],
      "source": [
        "mask_dir = lambda anno_dir, X_lis: [anno_dir+i.split('.')[0]+'_mask.png'\n",
        "                                    for i in X_lis]\n",
        "\n",
        "imgs_path_list = sorted(os.listdir(img_dir))\n",
        "\n",
        "size = 1/len(imgs_path_list)\n",
        "size = 0.1\n",
        "train, test = train_test_split(imgs_path_list, train_size=size, random_state=0)\n",
        "\n",
        "key = 'X_train, X_test, y_train, y_test'.split(', ')\n",
        "\n",
        "lis = []\n",
        "for number in [train, test]:\n",
        "    lis.append([img_dir+i for i in number])  # X\n",
        "for number in [train, test]:\n",
        "    lis.append(mask_dir(anno_dir, number))  # y\n",
        "data_dic = dict(zip(key, lis))\n",
        "data_dic['X_train']"
      ]
    },
    {
      "cell_type": "markdown",
      "id": "b82deccf",
      "metadata": {
        "id": "b82deccf"
      },
      "source": [
        "### Build dataset"
      ]
    },
    {
      "cell_type": "code",
      "execution_count": null,
      "id": "fee05861",
      "metadata": {
        "id": "fee05861"
      },
      "outputs": [],
      "source": [
        "def data_generater(imgs_path_list, anno_path_list, img_transform=None):\n",
        "    for img_path in imgs_path_list:\n",
        "        img_path = str(bytes.decode(img_path))\n",
        "        file_name = img_path.split('/')[-1].split('.')[0]\n",
        "        mask_path = [str(bytes.decode(i))\n",
        "                     for i in anno_path_list\n",
        "                     if str(i).__contains__(file_name)][0]\n",
        "        \n",
        "        image = cv2.imread(img_path)\n",
        "        image = np.array(image, dtype=np.float32)\n",
        "        image = cv2.cvtColor(image, cv2.COLOR_BGR2RGB)\n",
        "        mask = cv2.imread(mask_path, cv2.IMREAD_GRAYSCALE)  # (1000, 1000)\n",
        "        mask = np.array(mask, dtype=np.float32)\n",
        "\n",
        "        if img_transform == 1:\n",
        "            transformed = transform(image=image, mask=mask)\n",
        "            image = transformed['image']\n",
        "            mask = transformed['mask']\n",
        "        elif img_transform == 2:\n",
        "            transformed = target_transform(image=image, mask=mask)\n",
        "            image = transformed['image']\n",
        "            mask = transformed['mask']\n",
        "\n",
        "        image = tf.constant(image)\n",
        "\n",
        "        mask = tf.constant(mask)\n",
        "        mask = tf.expand_dims(mask, axis=-1)\n",
        "        mask = tf.image.convert_image_dtype(mask, tf.float32)\n",
        "        mask = mask/255.\n",
        "        yield image, mask"
      ]
    },
    {
      "cell_type": "markdown",
      "id": "864a7dd9",
      "metadata": {
        "id": "864a7dd9"
      },
      "source": [
        "### 使用 albumentations 進行資料擴增"
      ]
    },
    {
      "cell_type": "code",
      "execution_count": null,
      "id": "109cc53d",
      "metadata": {
        "id": "109cc53d"
      },
      "outputs": [],
      "source": [
        "# https://albumentations.ai/docs/getting_started/mask_augmentation/\n",
        "\n",
        "transform = A.Compose([\n",
        "    A.CenterCrop(300, 900, p=0.5),\n",
        "    A.HorizontalFlip(p=0.5),\n",
        "    A.Rotate((-30, 30), interpolation=0),\n",
        "    A.ToFloat(always_apply=True),\n",
        "    A.Resize(WIDTH, HEIGHT),\n",
        "])\n",
        "\n",
        "target_transform = A.Compose([\n",
        "    A.ToFloat(always_apply=True),\n",
        "    A.Resize(WIDTH, HEIGHT),\n",
        "])"
      ]
    },
    {
      "cell_type": "code",
      "execution_count": null,
      "id": "4b624d79",
      "metadata": {
        "id": "4b624d79"
      },
      "outputs": [],
      "source": [
        "# 在這邊會強制對所有不滿 BATCH_SIZE 的訓練資料做數量上的匹配\n",
        "if len(data_dic['X_train']) < BATCH_SIZE:\n",
        "    lis = data_dic['X_train']\n",
        "    lis = [lis[i % len(lis)] for i in range(BATCH_SIZE)]\n",
        "    data_dic['X_train'] = lis\n",
        "\n",
        "train_ds = tf.data.Dataset.from_generator(\n",
        "    data_generater,\n",
        "    output_signature=(tf.TensorSpec(shape=(None, None, 3),\n",
        "                                    dtype=tf.float32),\n",
        "                      tf.TensorSpec(shape=(None, None, 1), dtype=tf.float32)),\n",
        "    args=[data_dic['X_train'], data_dic['y_train'], 1])\n",
        "\n",
        "test_ds = tf.data.Dataset.from_generator(\n",
        "    data_generater, output_signature=(tf.TensorSpec(shape=(None, None, 3),\n",
        "                                                    dtype=tf.float32),\n",
        "                                      tf.TensorSpec(shape=(None, None, 1),\n",
        "                                                    dtype=tf.float32)),\n",
        "    args=[data_dic['X_test'], data_dic['y_test'], 2])\n",
        "\n",
        "dataset_train = train_ds.batch(BATCH_SIZE).prefetch(buffer_size=32)\n",
        "dataset_test = test_ds.batch(BATCH_SIZE).prefetch(buffer_size=32)"
      ]
    },
    {
      "cell_type": "code",
      "execution_count": null,
      "id": "b52c675c",
      "metadata": {
        "id": "b52c675c"
      },
      "outputs": [],
      "source": [
        "for batch in dataset_train.take(1):\n",
        "    print(f'{len(batch)}, {batch[0].shape}, {batch[1].shape}')"
      ]
    },
    {
      "cell_type": "markdown",
      "id": "1a3c74d9",
      "metadata": {
        "id": "1a3c74d9"
      },
      "source": [
        "#### 補充: 如何從 dataset 抽 image, mask 出來"
      ]
    },
    {
      "cell_type": "code",
      "execution_count": null,
      "id": "54b32f08",
      "metadata": {
        "id": "54b32f08"
      },
      "outputs": [],
      "source": [
        "def show_image_mask(*img_list, split=False):\n",
        "    plt.figure(figsize=(10, 3))\n",
        "    for i, img in enumerate(list(img_list), 1):\n",
        "        plt.subplot(1, len(img_list), i)\n",
        "        img = img - img.min()\n",
        "        if len(np.shape(img)) == 2:\n",
        "            plt.imshow(img, cmap='gray')\n",
        "        else:\n",
        "            img = img.astype(np.int32)\n",
        "            plt.imshow(img)\n",
        "    plt.show()\n",
        "    plt.close()"
      ]
    },
    {
      "cell_type": "code",
      "execution_count": null,
      "id": "68b0fdda",
      "metadata": {
        "id": "68b0fdda"
      },
      "outputs": [],
      "source": [
        "for batch in dataset_train.take(1):\n",
        "    for image, mask in zip(batch[0], batch[1]):\n",
        "        show_image_mask(image.numpy(), mask.numpy().squeeze())"
      ]
    },
    {
      "cell_type": "markdown",
      "id": "8d64e23c",
      "metadata": {
        "id": "8d64e23c"
      },
      "source": [
        "# 訓練模型"
      ]
    },
    {
      "cell_type": "code",
      "execution_count": null,
      "id": "42a717ad",
      "metadata": {
        "id": "42a717ad"
      },
      "outputs": [],
      "source": [
        "model = UNet(num_class=1, padding='same', retain_dim=(WIDTH, HEIGHT))\n",
        "\n",
        "loss_fn = tf.nn.sigmoid_cross_entropy_with_logits\n",
        "optimizer = tf.keras.optimizers.Adam(learning_rate=0.001)\n",
        "\n",
        "model.compile(optimizer=optimizer, loss=loss_fn)\n",
        "model.fit(dataset_train, batch_size=16, epochs=500)\n",
        "# model.save_weights('UNet')"
      ]
    },
    {
      "cell_type": "code",
      "execution_count": null,
      "id": "0ef6448a",
      "metadata": {
        "id": "0ef6448a"
      },
      "outputs": [],
      "source": [
        "for batch in dataset_train.take(1):\n",
        "    for image, mask in zip(batch[0], batch[1]):\n",
        "        pre = model(np.expand_dims(image, 0)).numpy()\n",
        "        pre[pre>=0.2] = 1\n",
        "        pre[pre<0.2] = 0\n",
        "        show_image_mask(image.numpy(), mask.numpy().squeeze(), pre.squeeze())"
      ]
    },
    {
      "cell_type": "code",
      "execution_count": null,
      "id": "75b92cc2",
      "metadata": {
        "id": "75b92cc2"
      },
      "outputs": [],
      "source": []
    }
  ],
  "metadata": {
    "accelerator": "GPU",
    "colab": {
      "provenance": []
    },
    "gpuClass": "standard",
    "kernelspec": {
      "display_name": "Python 3 (ipykernel)",
      "language": "python",
      "name": "python3"
    },
    "language_info": {
      "codemirror_mode": {
        "name": "ipython",
        "version": 3
      },
      "file_extension": ".py",
      "mimetype": "text/x-python",
      "name": "python",
      "nbconvert_exporter": "python",
      "pygments_lexer": "ipython3",
      "version": "3.7.12"
    }
  },
  "nbformat": 4,
  "nbformat_minor": 5
}