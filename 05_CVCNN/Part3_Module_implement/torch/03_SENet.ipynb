{
  "cells": [
    {
      "cell_type": "markdown",
      "id": "321eea1b",
      "metadata": {
        "id": "321eea1b"
      },
      "source": [
        "# **SENet**\n",
        "此份程式碼會介紹如何使用 PyTorch 的方式建構 SENet 的模型架構。"
      ]
    },
    {
      "cell_type": "markdown",
      "id": "b697e18e",
      "metadata": {
        "id": "b697e18e"
      },
      "source": [
        "![image](https://hackmd.io/_uploads/SyC2RkB_6.png)\n",
        "\n",
        "- [source paper](https://arxiv.org/abs/1709.01507)"
      ]
    },
    {
      "cell_type": "markdown",
      "id": "c1641211",
      "metadata": {
        "id": "c1641211"
      },
      "source": [
        "## 匯入套件"
      ]
    },
    {
      "cell_type": "code",
      "execution_count": null,
      "id": "efa38274",
      "metadata": {
        "id": "efa38274"
      },
      "outputs": [],
      "source": [
        "# PyTorch 相關套件\n",
        "import torch\n",
        "import torch.nn as nn"
      ]
    },
    {
      "cell_type": "markdown",
      "id": "b6f088ec",
      "metadata": {
        "id": "b6f088ec"
      },
      "source": [
        "## SENet Arhietecture"
      ]
    },
    {
      "cell_type": "markdown",
      "id": "a040859b",
      "metadata": {
        "id": "a040859b"
      },
      "source": [
        "![image](https://hackmd.io/_uploads/BkI60kr_6.png)\n",
        "\n",
        "- [source paper](https://arxiv.org/abs/1709.01507)"
      ]
    },
    {
      "cell_type": "code",
      "execution_count": null,
      "id": "9ae8ba8a",
      "metadata": {},
      "outputs": [],
      "source": [
        "class SEBlock(nn.Module):\n",
        "    def __init__(self, in_channels, out_channels, reduction_ratio=16):\n",
        "        super(SEBlock, self).__init__()\n",
        "        self.basic_module = nn.Sequential(\n",
        "            nn.Conv2d(in_channels, out_channels, kernel_size=3, padding='same'),\n",
        "            nn.BatchNorm2d(out_channels),\n",
        "            nn.ReLU(inplace=True),\n",
        "            nn.Conv2d(out_channels, out_channels, kernel_size=3, padding='same'),\n",
        "            nn.BatchNorm2d(out_channels),\n",
        "            nn.ReLU(inplace=True),\n",
        "        )\n",
        "        self.squeeze = nn.Sequential(\n",
        "            nn.AdaptiveAvgPool2d(1),\n",
        "            nn.Flatten(),\n",
        "        )\n",
        "        self.excitation = nn.Sequential(\n",
        "            nn.Linear(out_channels, out_channels // reduction_ratio),\n",
        "            nn.ReLU(inplace=True),\n",
        "            nn.Linear(out_channels // reduction_ratio, out_channels),\n",
        "            nn.Sigmoid()\n",
        "        )\n",
        "\n",
        "    def forward(self, x):\n",
        "        x = self.basic_module(x)\n",
        "        skip = x\n",
        "        x = self.squeeze(x)\n",
        "        x = self.excitation(x)\n",
        "        x = x.unsqueeze(2).unsqueeze(3)\n",
        "        return skip * x\n"
      ]
    },
    {
      "cell_type": "code",
      "execution_count": null,
      "id": "784cf80e",
      "metadata": {},
      "outputs": [],
      "source": [
        "inputs = torch.randn(1, 32, 224, 224)\n",
        "outputs = SEBlock(in_channels=32, out_channels=32)(inputs)\n",
        "print(outputs.size())"
      ]
    },
    {
      "cell_type": "code",
      "execution_count": null,
      "id": "72e67dec",
      "metadata": {
        "id": "72e67dec"
      },
      "outputs": [],
      "source": []
    }
  ],
  "metadata": {
    "colab": {
      "provenance": []
    },
    "kernelspec": {
      "display_name": "Python 3 (ipykernel)",
      "language": "python",
      "name": "python3"
    },
    "language_info": {
      "codemirror_mode": {
        "name": "ipython",
        "version": 3
      },
      "file_extension": ".py",
      "mimetype": "text/x-python",
      "name": "python",
      "nbconvert_exporter": "python",
      "pygments_lexer": "ipython3",
      "version": "3.10.13"
    }
  },
  "nbformat": 4,
  "nbformat_minor": 5
}
