{
  "cells": [
    {
      "cell_type": "markdown",
      "id": "792c17a7",
      "metadata": {
        "id": "792c17a7"
      },
      "source": [
        "# **ConvNeXt**\n",
        "此份程式碼會介紹如何使用 Pt=yTorch 的方式建構 ConvNeXt 的模型架構。"
      ]
    },
    {
      "cell_type": "markdown",
      "id": "e5168150",
      "metadata": {
        "id": "e5168150"
      },
      "source": [
        "![image](https://hackmd.io/_uploads/r1UV1gH_a.png)\n",
        "\n",
        "- [source paper](https://arxiv.org/abs/2201.03545)"
      ]
    },
    {
      "cell_type": "markdown",
      "id": "e093fb85",
      "metadata": {
        "id": "e093fb85"
      },
      "source": [
        "## 匯入套件"
      ]
    },
    {
      "cell_type": "code",
      "execution_count": null,
      "id": "2d0b571e",
      "metadata": {
        "id": "2d0b571e"
      },
      "outputs": [],
      "source": [
        "# PyTorch 相關套件\n",
        "import torch\n",
        "import torch.nn as nn"
      ]
    },
    {
      "cell_type": "markdown",
      "id": "be847e45",
      "metadata": {
        "id": "be847e45"
      },
      "source": [
        "## ConvNext Arhietecture"
      ]
    },
    {
      "cell_type": "markdown",
      "id": "6e02381e",
      "metadata": {
        "id": "6e02381e"
      },
      "source": [
        "![image](https://hackmd.io/_uploads/rksNyeru6.png)\n"
      ]
    },
    {
      "cell_type": "code",
      "execution_count": null,
      "id": "41d9fcef",
      "metadata": {},
      "outputs": [],
      "source": [
        "class LayerNorm2d(nn.LayerNorm):\n",
        "\n",
        "    def forward(self, x):\n",
        "        x = x.permute(0, 2, 3, 1)\n",
        "        x = torch.nn.functional.layer_norm(x, self.normalized_shape,\n",
        "                                           self.weight, self.bias, self.eps)\n",
        "        x = x.permute(0, 3, 1, 2)\n",
        "        return x\n",
        "\n",
        "\n",
        "class ConvNeXtModule(nn.Module):\n",
        "\n",
        "    def __init__(self, in_channels, out_channels):\n",
        "        super().__init__()\n",
        "        self.depthwise = nn.Conv2d(in_channels,\n",
        "                                   in_channels,\n",
        "                                   kernel_size=7,\n",
        "                                   padding='same',\n",
        "                                   groups=in_channels)\n",
        "        self.layernorm = LayerNorm2d(in_channels)\n",
        "        self.pointwise1 = nn.Conv2d(in_channels,\n",
        "                                    in_channels * 4,\n",
        "                                    kernel_size=1)\n",
        "        self.pointwise1_act = nn.GELU()\n",
        "        self.pointwise2 = nn.Conv2d(in_channels * 4,\n",
        "                                    out_channels,\n",
        "                                    kernel_size=1)\n",
        "\n",
        "    def forward(self, x):\n",
        "        skip = x\n",
        "        x = self.depthwise(x)\n",
        "        x = self.layernorm(x)\n",
        "        x = self.pointwise1(x)\n",
        "        x = self.pointwise1_act(x)\n",
        "        x = self.pointwise2(x)\n",
        "        x = x + skip\n",
        "        return x\n",
        "\n",
        "\n",
        "class Downsample(nn.Module):\n",
        "\n",
        "    def __init__(self, in_channels, out_channels):\n",
        "        super().__init__()\n",
        "        self.norm = LayerNorm2d(in_channels)\n",
        "        self.conv = nn.Conv2d(in_channels,\n",
        "                              out_channels,\n",
        "                              kernel_size=2,\n",
        "                              stride=2)\n",
        "\n",
        "    def forward(self, x):\n",
        "        x = self.norm(x)\n",
        "        x = self.conv(x)\n",
        "        return x\n",
        "\n",
        "\n",
        "class ConvNeXtBlock(nn.Module):\n",
        "\n",
        "    def __init__(self, in_channels, out_channels, num_modules):\n",
        "        super().__init__()\n",
        "        layer_list = []\n",
        "        layer_list.append(Downsample(in_channels, out_channels))\n",
        "        for _ in range(num_modules):\n",
        "            layer_list.append(ConvNeXtModule(out_channels, out_channels))\n",
        "        self.layers = nn.Sequential(*layer_list)\n",
        "\n",
        "    def forward(self, x):\n",
        "        return self.layers(x)"
      ]
    },
    {
      "cell_type": "code",
      "execution_count": null,
      "id": "a5b0a894",
      "metadata": {},
      "outputs": [],
      "source": [
        "class ConvNeXtNet(nn.Module):\n",
        "\n",
        "    def __init__(self, in_channels, channels, num_modules, num_classes):\n",
        "        super().__init__()\n",
        "        layer_list = []\n",
        "        self.stem = nn.Sequential(\n",
        "            nn.Conv2d(in_channels, channels[0], kernel_size=4, stride=4),\n",
        "            LayerNorm2d(channels[0]))\n",
        "        layer_list.append(\n",
        "            ConvNeXtBlock(channels[0], channels[0], num_modules[0]))\n",
        "\n",
        "        for i in range(1, len(channels)):\n",
        "            layer_list.append(\n",
        "                ConvNeXtBlock(channels[i - 1], channels[i], num_modules[i]))\n",
        "        self.layers = nn.Sequential(*layer_list)\n",
        "\n",
        "        out_channels = channels[-1]\n",
        "        self.classifier = nn.Sequential(LayerNorm2d(out_channels),\n",
        "                                        nn.AdaptiveAvgPool2d(1), nn.Flatten(),\n",
        "                                        nn.Linear(out_channels, num_classes))\n",
        "\n",
        "    def forward(self, x):\n",
        "        x = self.stem(x)\n",
        "        x = self.layers(x)\n",
        "        x = self.classifier(x)\n",
        "        return x"
      ]
    },
    {
      "cell_type": "code",
      "execution_count": null,
      "id": "1c1c592c",
      "metadata": {},
      "outputs": [],
      "source": [
        "inputs = torch.randn(1, 3, 224, 224)\n",
        "model = ConvNeXtNet(3,\n",
        "                    channels=[96, 192, 384, 768],\n",
        "                    num_modules=[3, 3, 9, 3],\n",
        "                    num_classes=1000)\n",
        "outputs = model(inputs)\n",
        "print(outputs.size())"
      ]
    }
  ],
  "metadata": {
    "colab": {
      "provenance": []
    },
    "kernelspec": {
      "display_name": "Python 3 (ipykernel)",
      "language": "python",
      "name": "python3"
    },
    "language_info": {
      "codemirror_mode": {
        "name": "ipython",
        "version": 3
      },
      "file_extension": ".py",
      "mimetype": "text/x-python",
      "name": "python",
      "nbconvert_exporter": "python",
      "pygments_lexer": "ipython3",
      "version": "3.10.13"
    }
  },
  "nbformat": 4,
  "nbformat_minor": 5
}
