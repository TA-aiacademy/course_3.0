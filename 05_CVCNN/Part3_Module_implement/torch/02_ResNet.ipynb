{
  "cells": [
    {
      "cell_type": "markdown",
      "id": "d0d29bfc",
      "metadata": {
        "id": "d0d29bfc"
      },
      "source": [
        "# **ResNet**\n",
        "此份程式碼會介紹如何使用 torch.nn 的方式建構 ResNet 的模型架構。"
      ]
    },
    {
      "cell_type": "markdown",
      "id": "c76e4c9e",
      "metadata": {
        "id": "c76e4c9e"
      },
      "source": [
        "![image](https://hackmd.io/_uploads/rJ8SA1HOp.png)\n",
        "\n",
        "- [source paper](https://arxiv.org/abs/1512.03385)"
      ]
    },
    {
      "cell_type": "markdown",
      "id": "d15836b8",
      "metadata": {
        "id": "d15836b8"
      },
      "source": [
        "## 匯入套件"
      ]
    },
    {
      "cell_type": "code",
      "execution_count": 1,
      "id": "14e0a7c1",
      "metadata": {
        "id": "14e0a7c1"
      },
      "outputs": [],
      "source": [
        "# PyTorch 相關套件\n",
        "import torch\n",
        "import torch.nn as nn"
      ]
    },
    {
      "cell_type": "markdown",
      "id": "c00e63ff",
      "metadata": {
        "id": "c00e63ff"
      },
      "source": [
        "## ResNet Arhietecture"
      ]
    },
    {
      "cell_type": "markdown",
      "id": "be25a3b4",
      "metadata": {
        "id": "be25a3b4"
      },
      "source": [
        "![image](https://hackmd.io/_uploads/B16H0kHOT.png)\n",
        "\n",
        "- [source paper](https://arxiv.org/abs/1512.03385)"
      ]
    },
    {
      "cell_type": "code",
      "execution_count": 18,
      "id": "e394215a",
      "metadata": {},
      "outputs": [],
      "source": [
        "class BasicBlock(nn.Module):\n",
        "    def __init__(self, input_channels, output_channels, kernel_size=3, stride=1):\n",
        "        super().__init__()\n",
        "        self.conv1 = nn.Conv2d(input_channels, output_channels, kernel_size, stride, padding=1)\n",
        "        self.bn1 = nn.BatchNorm2d(output_channels)\n",
        "        self.conv2 = nn.Conv2d(output_channels, output_channels, kernel_size, stride=1, padding=1)\n",
        "        self.bn2 = nn.BatchNorm2d(output_channels)\n",
        "        self.act = nn.ReLU()\n",
        "        self.stride = stride\n",
        "        # 如果strides不等於1，則需要對identity進行下採樣\n",
        "        if self.stride != 1:\n",
        "            self.downsample = nn.Sequential(\n",
        "                nn.Conv2d(input_channels, output_channels, 1, stride),\n",
        "                nn.BatchNorm2d(output_channels)\n",
        "            )\n",
        "        else:\n",
        "            self.downsample = None\n",
        "        \n",
        "        \n",
        "    def forward(self, x):\n",
        "        identity = x\n",
        "        x = self.conv1(x)\n",
        "        x = self.bn1(x)\n",
        "        x = self.act(x)\n",
        "        x = self.conv2(x)\n",
        "        x = self.bn2(x)\n",
        "        \n",
        "        if self.downsample is not None:\n",
        "            identity = self.downsample(identity)\n",
        "        \n",
        "        x = x + identity\n",
        "        x = self.act(x)\n",
        "        return x\n",
        "            "
      ]
    },
    {
      "cell_type": "code",
      "execution_count": 19,
      "id": "356a7e6e",
      "metadata": {},
      "outputs": [],
      "source": [
        "class ResBlock(nn.Module):\n",
        "    def __init__(self, input_channels, output_channels, layers, strides=1):\n",
        "        super().__init__()\n",
        "        layers_list = []\n",
        "        if strides != 1:\n",
        "            layers_list.append(BasicBlock(input_channels, output_channels, 3, strides))\n",
        "        for _ in range(1, layers):\n",
        "            layers_list.append(BasicBlock(output_channels, output_channels, 3))\n",
        "        self.layers = nn.Sequential(*layers_list)\n",
        "    def forward(self, x):\n",
        "        return self.layers(x)"
      ]
    },
    {
      "cell_type": "code",
      "execution_count": 22,
      "id": "06a93150",
      "metadata": {},
      "outputs": [],
      "source": [
        "class ResNet(nn.Module):\n",
        "    def __init__(self, num_classes, layers):\n",
        "        super().__init__()\n",
        "        # stem\n",
        "        self.conv1 = nn.Conv2d(3, 64, 7, 2, padding=3)\n",
        "        self.bn1 = nn.BatchNorm2d(64)\n",
        "        self.act = nn.ReLU()\n",
        "        self.maxpool = nn.MaxPool2d(3, 2, padding=1)\n",
        "        \n",
        "        self.layer1 = ResBlock(64, 64, layers=layers[0])\n",
        "        self.layer2 = ResBlock(64, 128, layers=layers[1], strides=2)\n",
        "        self.layer3 = ResBlock(128, 256, layers=layers[2], strides=2)\n",
        "        self.layer4 = ResBlock(256, 512, layers=layers[3], strides=2)\n",
        "        self.avgpool = nn.AdaptiveAvgPool2d((1, 1))\n",
        "        self.fc = nn.Linear(512, num_classes)\n",
        "    \n",
        "    def forward(self, x):\n",
        "        x = self.conv1(x)\n",
        "        x = self.bn1(x)\n",
        "        x = self.act(x)\n",
        "        x = self.maxpool(x)\n",
        "        x = self.layer1(x)\n",
        "        x = self.layer2(x)\n",
        "        x = self.layer3(x)\n",
        "        x = self.layer4(x)\n",
        "        x = self.avgpool(x)\n",
        "        x = torch.flatten(x, 1)\n",
        "        x = self.fc(x)\n",
        "        return x"
      ]
    },
    {
      "cell_type": "code",
      "execution_count": 23,
      "id": "14a1c0bd",
      "metadata": {
        "id": "14a1c0bd"
      },
      "outputs": [
        {
          "name": "stdout",
          "output_type": "stream",
          "text": [
            "torch.Size([1, 10])\n"
          ]
        }
      ],
      "source": [
        "# ResNet-18\n",
        "model = ResNet(10, [2, 2, 2, 2])\n",
        "# ResNet-34\n",
        "model = ResNet(10, [3, 4, 6, 3])\n",
        "\n",
        "inputs = torch.randn(1, 3, 224, 224)\n",
        "outputs = model(inputs)\n",
        "print(outputs.size())"
      ]
    },
    {
      "cell_type": "code",
      "execution_count": null,
      "id": "89dd92c5",
      "metadata": {},
      "outputs": [],
      "source": []
    }
  ],
  "metadata": {
    "accelerator": "GPU",
    "colab": {
      "provenance": []
    },
    "gpuClass": "standard",
    "kernelspec": {
      "display_name": "Python 3 (ipykernel)",
      "language": "python",
      "name": "python3"
    },
    "language_info": {
      "codemirror_mode": {
        "name": "ipython",
        "version": 3
      },
      "file_extension": ".py",
      "mimetype": "text/x-python",
      "name": "python",
      "nbconvert_exporter": "python",
      "pygments_lexer": "ipython3",
      "version": "3.10.13"
    }
  },
  "nbformat": 4,
  "nbformat_minor": 5
}
