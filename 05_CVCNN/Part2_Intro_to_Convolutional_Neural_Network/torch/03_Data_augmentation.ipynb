{
  "cells": [
    {
      "cell_type": "markdown",
      "id": "136a37a5",
      "metadata": {
        "id": "136a37a5"
      },
      "source": [
        "# Data Augmentation"
      ]
    },
    {
      "cell_type": "markdown",
      "id": "cf23447d",
      "metadata": {
        "id": "cf23447d"
      },
      "source": [
        "## 本章節大綱\n",
        "* [讀取資料](#讀取資料)\n",
        "* [建立模型並訓練](#建立模型並訓練)\n",
        "* [亮度 Brightness](#亮度-Brightness)\n",
        "* [色調 Hue](#色調-Hue)\n",
        "* [飽和度 Saturation](#飽和度-Saturation)\n",
        "* [翻轉 Flip](翻轉-Flip)\n",
        "* [旋轉 Rotation](#旋轉-Rotation)\n",
        "* [裁剪 Crop](#裁剪-Crop)\n",
        "* [隨機 Zoom](#縮放-Zoom)\n",
        "* [隨機高度 RandomHeight](#隨機高度-RandomHeight)\n",
        "* [隨機寬度 RandomWidth](#隨機寬度-RandomWidth)\n",
        "* [隨機平移 RandomTranslation](#隨機平移-RandomTranslation)\n",
        "* [綜合](#整合)\n",
        "* [加快資料讀取速度](#加快資料讀取速度)\n"
      ]
    },
    {
      "cell_type": "markdown",
      "id": "6a8eaef7",
      "metadata": {
        "id": "6a8eaef7"
      },
      "source": [
        "## 匯入套件\n"
      ]
    },
    {
      "cell_type": "code",
      "execution_count": null,
      "id": "8af0c23d",
      "metadata": {
        "tags": [],
        "id": "8af0c23d"
      },
      "outputs": [],
      "source": [
        "import pandas as pd\n",
        "import numpy as np\n",
        "import matplotlib.pyplot as plt\n",
        "import cv2\n",
        "import glob  # 讀取特定格式路徑\n",
        "from PIL import Image\n",
        "\n",
        "import torch\n",
        "import torchvision.transforms as T"
      ]
    },
    {
      "cell_type": "markdown",
      "id": "d8602ab2",
      "metadata": {
        "id": "d8602ab2"
      },
      "source": [
        "## 讀取路徑"
      ]
    },
    {
      "cell_type": "code",
      "execution_count": null,
      "id": "c6de18b5",
      "metadata": {
        "id": "c6de18b5"
      },
      "outputs": [],
      "source": [
        "# upload Data\n",
        "!wget -q https://github.com/TA-aiacademy/course_3.0/releases/download/CVCNN_Data/cat_dog.zip\n",
        "!unzip -q cat_dog"
      ]
    },
    {
      "cell_type": "code",
      "execution_count": null,
      "id": "5c4580ab",
      "metadata": {
        "id": "5c4580ab"
      },
      "outputs": [],
      "source": [
        "print(glob.glob('*'))  # 查看現在資料夾底下所有東西"
      ]
    },
    {
      "cell_type": "code",
      "execution_count": null,
      "id": "e4673a70",
      "metadata": {
        "id": "e4673a70"
      },
      "outputs": [],
      "source": [
        "print(glob.glob('cat_dog/*'))  # 查看 cat_dog 資料夾底下所有東西"
      ]
    },
    {
      "cell_type": "code",
      "execution_count": null,
      "id": "1f369a52",
      "metadata": {
        "id": "1f369a52"
      },
      "outputs": [],
      "source": [
        "print(glob.glob('cat_dog/*/*')[:5])  # 查看 cat_dog 資料夾底下兩層所有東西"
      ]
    },
    {
      "cell_type": "code",
      "execution_count": null,
      "id": "cc9233f7",
      "metadata": {
        "id": "cc9233f7"
      },
      "outputs": [],
      "source": [
        "# 建立一個字典來存放路徑跟標籤資訊\n",
        "data_dict={'file_name': [], 'type': []}\n",
        "# 只拿 train 資料中的 .jpg 檔案\n",
        "for i in glob.glob('cat_dog/train/*.jpg'):\n",
        "    # i 會類似 cat_dog/train/cat.11996.jpg\n",
        "    data_dict['file_name'].append(i)\n",
        "    # 字串處理取出檔案名稱前三個字元來判斷類別\n",
        "    animal = i.split('/')[-1][:3]\n",
        "    if animal == 'cat':\n",
        "        data_dict['type'].append(0)\n",
        "    elif animal == 'dog':\n",
        "        data_dict['type'].append(1)\n",
        "    else:\n",
        "        print(i)"
      ]
    },
    {
      "cell_type": "code",
      "execution_count": null,
      "id": "a54ce010",
      "metadata": {
        "id": "a54ce010"
      },
      "outputs": [],
      "source": [
        "# 將字典轉換成 DataFrame\n",
        "datalist = pd.DataFrame(data_dict)"
      ]
    },
    {
      "cell_type": "code",
      "execution_count": null,
      "id": "fdfdf3b4",
      "metadata": {
        "id": "fdfdf3b4"
      },
      "outputs": [],
      "source": [
        "datalist.head()"
      ]
    },
    {
      "cell_type": "markdown",
      "id": "2cb633a9",
      "metadata": {
        "id": "2cb633a9"
      },
      "source": [
        "## 製造一個 dataset 讀取資料"
      ]
    },
    {
      "cell_type": "code",
      "execution_count": null,
      "id": "ddaad792",
      "metadata": {
        "id": "ddaad792"
      },
      "outputs": [],
      "source": [
        "class ImageDataset(torch.utils.data.Dataset):\n",
        "    def __init__(self, df, transform):\n",
        "        self.df = df\n",
        "        self.transform = transform\n",
        "\n",
        "    def __len__(self):\n",
        "        return len(self.df)\n",
        "\n",
        "    def __getitem__(self, idx):\n",
        "        img_path = self.df.iloc[idx, 0]\n",
        "        img = Image.open(img_path)\n",
        "        img = self.transform(img)\n",
        "        label = self.df.iloc[idx, 1]\n",
        "        return img, label\n",
        "\n",
        "transform = T.Compose([\n",
        "    T.Resize((256, 256)),\n",
        "    T.ToTensor(),\n",
        "])\n",
        "dataset = ImageDataset(datalist, transform)"
      ]
    },
    {
      "cell_type": "code",
      "execution_count": null,
      "id": "0fa46094",
      "metadata": {
        "id": "0fa46094"
      },
      "outputs": [],
      "source": [
        "def plot_dataset(dataset):\n",
        "    plt.figure(figsize=(13, 7))\n",
        "    for i in range(8):\n",
        "        img, label = dataset[i]\n",
        "        plt.subplot(2, 4, i+1)\n",
        "        plt.imshow(img.permute(1, 2, 0))\n",
        "        plt.title(f\"Label: {label}\")\n",
        "    plt.show()\n",
        "\n",
        "plot_dataset(dataset)"
      ]
    },
    {
      "cell_type": "markdown",
      "id": "6ccf2fb4",
      "metadata": {
        "id": "6ccf2fb4"
      },
      "source": [
        "---\n",
        "# 資料擴增\n",
        "\n",
        "## torchvision.transforms\n",
        "\n",
        "- 圖像數值：亮度、對比度、色調、飽和度、品質、翻轉\n",
        "- 圖像形狀：剪裁、翻轉、旋轉、縮放、高度、寬度\n",
        "---"
      ]
    },
    {
      "cell_type": "markdown",
      "id": "88a39f80",
      "metadata": {
        "id": "88a39f80"
      },
      "source": [
        "# Augmentation: ColorJitter\n",
        "\n"
      ]
    },
    {
      "cell_type": "markdown",
      "source": [
        "* ## 亮度 Brightness\n",
        "\n",
        " * brightness：調整的幅度，0 ~ 1"
      ],
      "metadata": {
        "id": "XStMzO7h6ic0"
      },
      "id": "XStMzO7h6ic0"
    },
    {
      "cell_type": "code",
      "execution_count": null,
      "id": "00875cc6",
      "metadata": {
        "id": "00875cc6"
      },
      "outputs": [],
      "source": [
        "transform = T.Compose([\n",
        "    T.Resize((256, 256)),\n",
        "    T.ColorJitter(brightness=0.4),\n",
        "    T.ToTensor(),\n",
        "])\n",
        "dataset = ImageDataset(datalist, transform)\n",
        "plot_dataset(dataset)"
      ]
    },
    {
      "cell_type": "markdown",
      "id": "9ab0e764",
      "metadata": {
        "id": "9ab0e764"
      },
      "source": [
        "[(back...)](#本章節大綱)"
      ]
    },
    {
      "cell_type": "markdown",
      "id": "445687a7",
      "metadata": {
        "id": "445687a7"
      },
      "source": [
        "* ## 對比度 Contrast\n",
        "\n",
        " * contrast=0.3 (1-0.3 ~ 1+0.3)"
      ]
    },
    {
      "cell_type": "code",
      "execution_count": null,
      "id": "50fac7ff",
      "metadata": {
        "id": "50fac7ff"
      },
      "outputs": [],
      "source": [
        "transform = T.Compose([\n",
        "    T.Resize((256, 256)),\n",
        "    T.ColorJitter(contrast=(0.3)),\n",
        "    T.ToTensor(),\n",
        "])\n",
        "dataset = ImageDataset(datalist, transform)\n",
        "plot_dataset(dataset)"
      ]
    },
    {
      "cell_type": "markdown",
      "id": "96e88267",
      "metadata": {
        "id": "96e88267"
      },
      "source": [
        "* ## 色調 Hue\n",
        "\n",
        " * hue\n",
        "    * float: 0<= hue <= 0.5\n",
        "    * (min, max): -0.5 <= min <= max <= 0.5"
      ]
    },
    {
      "cell_type": "code",
      "source": [
        "transform = T.Compose([\n",
        "    T.Resize((256, 256)),\n",
        "    T.ColorJitter(hue=0.4),\n",
        "    T.ToTensor(),\n",
        "])\n",
        "dataset = ImageDataset(datalist, transform)\n",
        "plot_dataset(dataset)"
      ],
      "metadata": {
        "id": "fbMfh2zdt-gw"
      },
      "id": "fbMfh2zdt-gw",
      "execution_count": null,
      "outputs": []
    },
    {
      "cell_type": "markdown",
      "id": "ceb50b07",
      "metadata": {
        "id": "ceb50b07"
      },
      "source": [
        "[(back...)](#本章節大綱)"
      ]
    },
    {
      "cell_type": "markdown",
      "id": "2d88a563",
      "metadata": {
        "id": "2d88a563"
      },
      "source": [
        "* ## 飽和度 Saturation\n",
        "\n",
        " * saturation:\n",
        "    * float: [max(0, 1 - saturation), 1 + saturation]\n",
        "    * (min, max): [min, max]"
      ]
    },
    {
      "cell_type": "code",
      "execution_count": null,
      "id": "e4359f8f",
      "metadata": {
        "id": "e4359f8f"
      },
      "outputs": [],
      "source": [
        "transform = T.Compose([\n",
        "    T.Resize((256, 256)),\n",
        "    T.ColorJitter(saturation=(0.5)),\n",
        "    T.ToTensor(),\n",
        "])\n",
        "dataset = ImageDataset(datalist, transform)\n",
        "plot_dataset(dataset)"
      ]
    },
    {
      "cell_type": "markdown",
      "id": "eea619db",
      "metadata": {
        "id": "eea619db"
      },
      "source": [
        "[(back...)](#本章節大綱)"
      ]
    },
    {
      "cell_type": "markdown",
      "id": "ebc1365d",
      "metadata": {
        "id": "ebc1365d"
      },
      "source": [
        "* ## 翻轉 Flip\n",
        "\n",
        " * RandomHorizontalFlip：隨機水平翻轉\n",
        " * RandomVerticalFlip：隨機垂直翻轉\n"
      ]
    },
    {
      "cell_type": "code",
      "execution_count": null,
      "id": "60934cb8",
      "metadata": {
        "id": "60934cb8"
      },
      "outputs": [],
      "source": [
        "transform = T.Compose([\n",
        "    T.Resize((256, 256)),\n",
        "    T.RandomHorizontalFlip(0.5),\n",
        "    T.RandomVerticalFlip(0.5),\n",
        "    T.ToTensor(),\n",
        "])\n",
        "dataset = ImageDataset(datalist, transform)\n",
        "plot_dataset(dataset)"
      ]
    },
    {
      "cell_type": "markdown",
      "id": "2b58c16f",
      "metadata": {
        "id": "2b58c16f"
      },
      "source": [
        "[(back...)](#本章節大綱)"
      ]
    },
    {
      "cell_type": "markdown",
      "id": "b7ae6bed",
      "metadata": {
        "id": "b7ae6bed"
      },
      "source": [
        "* ## 旋轉 Rotation\n",
        "\n",
        " * degrees: (-degrees, +degrees)\n"
      ]
    },
    {
      "cell_type": "code",
      "execution_count": null,
      "id": "2aac5f10",
      "metadata": {
        "id": "2aac5f10"
      },
      "outputs": [],
      "source": [
        "transform = T.Compose([\n",
        "    T.Resize((256, 256)),\n",
        "    T.RandomRotation(degrees=(-20, 30)),\n",
        "    T.ToTensor(),\n",
        "])\n",
        "dataset = ImageDataset(datalist, transform)\n",
        "plot_dataset(dataset)"
      ]
    },
    {
      "cell_type": "markdown",
      "id": "77ac2555",
      "metadata": {
        "id": "77ac2555"
      },
      "source": [
        "[(back...)](#本章節大綱)"
      ]
    },
    {
      "cell_type": "markdown",
      "id": "1e2f626d",
      "metadata": {
        "id": "1e2f626d"
      },
      "source": [
        "* ## 裁剪 Crop: RandomResizedCrop\n",
        "\n",
        " * size: 輸出大小\n",
        " * scale: 裁剪比例範圍\n"
      ]
    },
    {
      "cell_type": "code",
      "execution_count": null,
      "id": "1210006f",
      "metadata": {
        "id": "1210006f"
      },
      "outputs": [],
      "source": [
        "transform = T.Compose([\n",
        "    T.RandomResizedCrop(size=(256, 256),\n",
        "                        scale=(0.5, 1.0)),\n",
        "    T.ToTensor(),\n",
        "])\n",
        "dataset = ImageDataset(datalist, transform)\n",
        "plot_dataset(dataset)"
      ]
    },
    {
      "cell_type": "markdown",
      "id": "e210ddb3",
      "metadata": {
        "id": "e210ddb3"
      },
      "source": [
        "[(back...)](#本章節大綱)"
      ]
    },
    {
      "cell_type": "markdown",
      "id": "454a3d44",
      "metadata": {
        "id": "454a3d44"
      },
      "source": [
        "* ## 縮放 Zoom: RandomAffine"
      ]
    },
    {
      "cell_type": "code",
      "execution_count": null,
      "id": "26ca8801",
      "metadata": {
        "id": "26ca8801"
      },
      "outputs": [],
      "source": [
        "transform = T.Compose([\n",
        "    T.Resize((256, 256)),\n",
        "    T.RandomAffine(degrees=0,\n",
        "                   scale=(0.5, 1.5)),\n",
        "    T.ToTensor(),\n",
        "])\n",
        "dataset = ImageDataset(datalist, transform)\n",
        "plot_dataset(dataset)"
      ]
    },
    {
      "cell_type": "markdown",
      "id": "4fe363e2",
      "metadata": {
        "id": "4fe363e2"
      },
      "source": [
        "[(back...)](#本章節大綱)"
      ]
    },
    {
      "cell_type": "markdown",
      "id": "f8559c12",
      "metadata": {
        "id": "f8559c12"
      },
      "source": [
        "* ## 隨機平移 RandomAffine\n",
        " * translate"
      ]
    },
    {
      "cell_type": "code",
      "source": [
        "transform = T.Compose([\n",
        "    T.Resize((256, 256)),\n",
        "    T.RandomAffine(\n",
        "        degrees=0,\n",
        "        translate=(0.1, 0.2) # (width+-10%, height+-20%))\n",
        "    ),\n",
        "    T.ToTensor(),\n",
        "])\n",
        "dataset = ImageDataset(datalist, transform)\n",
        "plot_dataset(dataset)"
      ],
      "metadata": {
        "id": "22eIaU2Y1Gj9"
      },
      "id": "22eIaU2Y1Gj9",
      "execution_count": null,
      "outputs": []
    },
    {
      "cell_type": "markdown",
      "id": "421562d0",
      "metadata": {
        "id": "421562d0"
      },
      "source": [
        "[(back...)](#本章節大綱)"
      ]
    },
    {
      "cell_type": "markdown",
      "id": "2a9c0098",
      "metadata": {
        "id": "2a9c0098"
      },
      "source": [
        "# 整合"
      ]
    },
    {
      "cell_type": "code",
      "source": [
        "transform = T.Compose([\n",
        "    T.ColorJitter(\n",
        "        brightness=0.4,\n",
        "        contrast=(0.3),\n",
        "        hue=0.4,\n",
        "        saturation=(0.5),\n",
        "    ),\n",
        "    T.RandomHorizontalFlip(0.5),\n",
        "    T.RandomVerticalFlip(0.5),\n",
        "    T.RandomAffine(\n",
        "        degrees=15,\n",
        "        scale=(0.5, 1.5),\n",
        "        translate=(0.1, 0.2), # (width+-10%, height+-20%))\n",
        "    ),\n",
        "    T.RandomResizedCrop(\n",
        "        size=(256, 256),\n",
        "        scale=(0.5, 1.0)\n",
        "    ),\n",
        "    T.ToTensor(),\n",
        "])\n",
        "\n",
        "dataset = ImageDataset(datalist, transform)\n",
        "plot_dataset(dataset)"
      ],
      "metadata": {
        "id": "v1ann0T86XJ3"
      },
      "id": "v1ann0T86XJ3",
      "execution_count": null,
      "outputs": []
    },
    {
      "cell_type": "markdown",
      "id": "f0f54f93",
      "metadata": {
        "id": "f0f54f93"
      },
      "source": [
        "* ## 加快資料讀取速度"
      ]
    },
    {
      "cell_type": "code",
      "source": [
        "from tqdm.auto import tqdm"
      ],
      "metadata": {
        "id": "8eqJu5za8Pcc"
      },
      "id": "8eqJu5za8Pcc",
      "execution_count": null,
      "outputs": []
    },
    {
      "cell_type": "code",
      "source": [
        "subset = torch.utils.data.Subset(dataset, list(range(1000)))\n",
        "\n",
        "batch_size = 64\n",
        "\n",
        "dataloader = torch.utils.data.DataLoader(\n",
        "    subset,\n",
        "    batch_size=batch_size,\n",
        ")\n",
        "\n",
        "dataloader_fast = torch.utils.data.DataLoader(\n",
        "    subset,\n",
        "    batch_size=batch_size,\n",
        "    num_workers=2, # 非windows作業系統可使用 num_workers > 0\n",
        ")"
      ],
      "metadata": {
        "id": "6ExeWCaI7i7r"
      },
      "id": "6ExeWCaI7i7r",
      "execution_count": null,
      "outputs": []
    },
    {
      "cell_type": "markdown",
      "id": "c655eb18",
      "metadata": {
        "id": "c655eb18"
      },
      "source": [
        "- 在讀取資料時能使用的dataset優化在 DL Part4 中 1_Custom_dataset.ipynb 有提到"
      ]
    },
    {
      "cell_type": "code",
      "source": [
        "len(subset)"
      ],
      "metadata": {
        "id": "ZOsqT2KO8LFQ"
      },
      "id": "ZOsqT2KO8LFQ",
      "execution_count": null,
      "outputs": []
    },
    {
      "cell_type": "code",
      "source": [
        "# calculate time of read dataloder\n",
        "import time\n",
        "def calculate_time(dataloader):\n",
        "    start_time = time.time()\n",
        "    for x, y in tqdm(dataloader):\n",
        "        pass\n",
        "    print(time.time()-start_time)"
      ],
      "metadata": {
        "id": "oqpumjqw9M7k"
      },
      "id": "oqpumjqw9M7k",
      "execution_count": null,
      "outputs": []
    },
    {
      "cell_type": "code",
      "execution_count": null,
      "id": "50966759",
      "metadata": {
        "id": "50966759"
      },
      "outputs": [],
      "source": [
        "calculate_time(dataloader)\n",
        "calculate_time(dataloader_fast)"
      ]
    },
    {
      "cell_type": "markdown",
      "source": [
        "補充 torchvision transform v2"
      ],
      "metadata": {
        "id": "9Y8cxqn5AOfB"
      },
      "id": "9Y8cxqn5AOfB"
    },
    {
      "cell_type": "code",
      "source": [
        "import torchvision.transforms.v2 as T2\n",
        "# torchvision.transform V2\n",
        "transform = T.Compose([\n",
        "    T2.ColorJitter(\n",
        "        brightness=0.4,\n",
        "        contrast=(0.3),\n",
        "        hue=0.4,\n",
        "        saturation=(0.5),\n",
        "    ),\n",
        "    T2.RandomHorizontalFlip(0.5),\n",
        "    T2.RandomVerticalFlip(0.5),\n",
        "    T2.RandomAffine(\n",
        "        degrees=15,\n",
        "        scale=(0.5, 1.5),\n",
        "        translate=(0.1, 0.2), # (width+-10%, height+-20%))\n",
        "    ),\n",
        "    T2.RandomResizedCrop(\n",
        "        size=(256, 256),\n",
        "        scale=(0.5, 1.0)\n",
        "    ),\n",
        "    T2.ToImage(),\n",
        "    T2.ToDtype(torch.float32, scale=True)\n",
        "])"
      ],
      "metadata": {
        "id": "25inCsif-4uB"
      },
      "id": "25inCsif-4uB",
      "execution_count": null,
      "outputs": []
    },
    {
      "cell_type": "code",
      "source": [],
      "metadata": {
        "id": "uTV-FKM7ARmh"
      },
      "id": "uTV-FKM7ARmh",
      "execution_count": null,
      "outputs": []
    }
  ],
  "metadata": {
    "kernelspec": {
      "display_name": "Python 3 (ipykernel)",
      "language": "python",
      "name": "python3"
    },
    "language_info": {
      "codemirror_mode": {
        "name": "ipython",
        "version": 3
      },
      "file_extension": ".py",
      "mimetype": "text/x-python",
      "name": "python",
      "nbconvert_exporter": "python",
      "pygments_lexer": "ipython3",
      "version": "3.7.12"
    },
    "colab": {
      "provenance": [],
      "toc_visible": true
    }
  },
  "nbformat": 4,
  "nbformat_minor": 5
}