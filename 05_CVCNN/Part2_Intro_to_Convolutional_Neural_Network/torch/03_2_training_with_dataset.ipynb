{
  "cells": [
    {
      "cell_type": "markdown",
      "metadata": {
        "id": "-N3qNbEEfkrY"
      },
      "source": [
        "# 使用 torch.utils.data.Dataset 進行完整的訓練"
      ]
    },
    {
      "cell_type": "code",
      "execution_count": null,
      "metadata": {
        "id": "1w929S3AfkrZ"
      },
      "outputs": [],
      "source": [
        "# upload Data\n",
        "!wget -q https://github.com/TA-aiacademy/course_3.0/releases/download/CVCNN_Data/cat_dog.zip\n",
        "!unzip -q cat_dog"
      ]
    },
    {
      "cell_type": "markdown",
      "metadata": {
        "id": "0Nqyji4ofkra"
      },
      "source": [
        "## 匯入套件"
      ]
    },
    {
      "cell_type": "code",
      "execution_count": null,
      "metadata": {
        "id": "VcNYA_sz14yK"
      },
      "outputs": [],
      "source": [
        "import pandas as pd\n",
        "import numpy as np\n",
        "import matplotlib.pyplot as plt\n",
        "from PIL import Image\n",
        "import glob  # 讀取特定格式路徑\n",
        "from tqdm.auto import tqdm\n",
        "\n",
        "import torch\n",
        "import torch.nn as nn\n",
        "import torchvision.transforms as T"
      ]
    },
    {
      "cell_type": "code",
      "source": [
        "device = torch.device('cuda' if torch.cuda.is_available() else 'cpu')\n",
        "print(device)"
      ],
      "metadata": {
        "id": "oFSPWHX1mGAt"
      },
      "execution_count": null,
      "outputs": []
    },
    {
      "cell_type": "markdown",
      "metadata": {
        "id": "GiwrC6ypfkra"
      },
      "source": [
        "## 讀取資料"
      ]
    },
    {
      "cell_type": "code",
      "execution_count": null,
      "metadata": {
        "id": "zwmnpAgw2XJh"
      },
      "outputs": [],
      "source": [
        "# 建立一個字典來存放路徑跟標籤資訊\n",
        "data_dict={'file_name': [], 'type': []}\n",
        "# 只拿 train 資料中的 .jpg 檔案\n",
        "for i in glob.glob('cat_dog/train/*.jpg'):\n",
        "    # i 會類似 cat_dog/train/cat.11996.jpg\n",
        "    data_dict['file_name'].append(i)\n",
        "    # 字串處理取出檔案名稱前三個字元來判斷類別\n",
        "    animal = i.split('/')[-1][:3]\n",
        "    if animal == 'cat':\n",
        "        data_dict['type'].append(0)\n",
        "    elif animal == 'dog':\n",
        "        data_dict['type'].append(1)\n",
        "    else:\n",
        "        print(i)"
      ]
    },
    {
      "cell_type": "code",
      "execution_count": null,
      "metadata": {
        "id": "1oN0L2KB3Dfe"
      },
      "outputs": [],
      "source": [
        "# 將字典轉換成 DataFrame\n",
        "datalist = pd.DataFrame(data_dict)\n",
        "shuffled_df = datalist.sample(frac=1, random_state=2)  # 打亂順序"
      ]
    },
    {
      "cell_type": "code",
      "execution_count": null,
      "metadata": {
        "id": "K6UYvR7YaLfW"
      },
      "outputs": [],
      "source": [
        "shuffled_df.head()"
      ]
    },
    {
      "cell_type": "code",
      "execution_count": null,
      "metadata": {
        "id": "L0ksbqvlfkra"
      },
      "outputs": [],
      "source": [
        "len(shuffled_df)"
      ]
    },
    {
      "cell_type": "markdown",
      "metadata": {
        "id": "YrLWPWNgfkra"
      },
      "source": [
        "## 切分訓練/驗證集"
      ]
    },
    {
      "cell_type": "code",
      "execution_count": null,
      "metadata": {
        "id": "i7J23r26aY0o"
      },
      "outputs": [],
      "source": [
        "# 切分訓練/測試資料\n",
        "train_data = shuffled_df[:500]\n",
        "val_data = shuffled_df[500:1000]\n",
        "test_data = shuffled_df[1000:3000]"
      ]
    },
    {
      "cell_type": "markdown",
      "metadata": {
        "id": "C5dEs5ydfkra"
      },
      "source": [
        "## 資料前處理："
      ]
    },
    {
      "cell_type": "code",
      "source": [
        "class ImageDataset(torch.utils.data.Dataset):\n",
        "    def __init__(self, df):\n",
        "        self.df = df\n",
        "        self.transform = T.Compose([\n",
        "            T.Resize((256, 256)),\n",
        "            T.RandomRotation(degrees=15),\n",
        "            T.ToTensor(),\n",
        "        ])\n",
        "\n",
        "    def __len__(self):\n",
        "        return len(self.df)\n",
        "\n",
        "    def __getitem__(self, idx):\n",
        "        img_path = self.df.iloc[idx, 0]\n",
        "        img = Image.open(img_path)\n",
        "        img = self.transform(img)\n",
        "        label = self.df.iloc[idx, 1]\n",
        "        return img, label"
      ],
      "metadata": {
        "id": "n7tCwVBBjoYA"
      },
      "execution_count": null,
      "outputs": []
    },
    {
      "cell_type": "code",
      "source": [
        "# Build dataset\n",
        "train_dataset = ImageDataset(train_data)\n",
        "val_dataset = ImageDataset(val_data)\n",
        "test_dataset = ImageDataset(test_data)"
      ],
      "metadata": {
        "id": "-Jtsrczlj9hu"
      },
      "execution_count": null,
      "outputs": []
    },
    {
      "cell_type": "code",
      "execution_count": null,
      "metadata": {
        "id": "-bROdH7DeGyF"
      },
      "outputs": [],
      "source": [
        "plt.figure(figsize=(13, 7))\n",
        "for i in range(8):\n",
        "    img, label = train_dataset[i]\n",
        "    plt.subplot(2, 4, i+1)\n",
        "    plt.imshow(img.permute(1, 2, 0))\n",
        "    plt.title(f\"Label: {label}\")\n",
        "plt.show()"
      ]
    },
    {
      "cell_type": "code",
      "source": [
        "# build dataloader\n",
        "BATCH_SIZE = 128\n",
        "train_loader = torch.utils.data.DataLoader(train_dataset, batch_size=BATCH_SIZE, shuffle=True)\n",
        "val_loader = torch.utils.data.DataLoader(val_dataset, batch_size=BATCH_SIZE, shuffle=False)\n",
        "test_loader = torch.utils.data.DataLoader(test_dataset, batch_size=BATCH_SIZE, shuffle=False)"
      ],
      "metadata": {
        "id": "gEomo1EMkfs5"
      },
      "execution_count": null,
      "outputs": []
    },
    {
      "cell_type": "markdown",
      "metadata": {
        "id": "7tLVwlgofkrb"
      },
      "source": [
        "## 建立神經網路"
      ]
    },
    {
      "cell_type": "code",
      "source": [
        "model = nn.Sequential(\n",
        "    nn.Conv2d(3, 32, kernel_size=3, padding='same'),\n",
        "    nn.ReLU(),\n",
        "    nn.Conv2d(32, 32, 3, padding='same'),\n",
        "    nn.ReLU(),\n",
        "    nn.MaxPool2d(kernel_size=2), # img_size // 2\n",
        "    nn.Conv2d(32, 64, 3, padding='same'),\n",
        "    nn.ReLU(),\n",
        "    nn.Conv2d(64, 64, 3, padding='same'),\n",
        "    nn.ReLU(),\n",
        "    nn.MaxPool2d(kernel_size=2), # img_size // 4\n",
        "\n",
        "    nn.Flatten(),\n",
        "    nn.Linear(64*64*64, 2)\n",
        ")\n",
        "\n",
        "print(model)"
      ],
      "metadata": {
        "id": "4zWYAIy7lilo"
      },
      "execution_count": null,
      "outputs": []
    },
    {
      "cell_type": "code",
      "execution_count": null,
      "metadata": {
        "id": "lEeddJnHdz5R"
      },
      "outputs": [],
      "source": [
        "def train_epoch(model, optimizer, loss_fn, train_dataloader, val_dataloader):\n",
        "    # 訓練一輪\n",
        "    model.train()\n",
        "    total_train_loss = 0\n",
        "    total_train_correct = 0\n",
        "    for x, y in tqdm(train_dataloader, leave=False):\n",
        "        optimizer.zero_grad() # 梯度歸零\n",
        "        x, y = x.to(device), y.to(device) # 將資料移至GPU\n",
        "        y_pred = model(x) # 計算預測值\n",
        "        loss = loss_fn(y_pred, y) # 計算誤差\n",
        "        loss.backward() # 反向傳播計算梯度\n",
        "        optimizer.step() # 更新模型參數\n",
        "        total_train_loss += loss.item()\n",
        "        total_train_correct += ((y_pred.argmax(dim=1) == y).sum().item())\n",
        "\n",
        "    avg_train_loss = total_train_loss / len(train_dataloader)\n",
        "    avg_train_acc = total_train_correct / len(train_dataloader.dataset)\n",
        "\n",
        "    return avg_train_loss, avg_train_acc\n",
        "\n",
        "def test_epoch(model, loss_fn, val_dataloader):\n",
        "    # 驗證一輪\n",
        "    model.eval()\n",
        "    total_val_loss = 0\n",
        "    total_val_correct = 0\n",
        "    with torch.no_grad():\n",
        "        for x, y in val_dataloader:\n",
        "            x, y = x.to(device), y.to(device)\n",
        "            y_pred = model(x)\n",
        "            loss = loss_fn(y_pred, y)\n",
        "            total_val_loss += loss.item()\n",
        "            total_val_correct += ((y_pred.argmax(dim=1) == y).sum().item())\n",
        "\n",
        "    avg_val_loss = total_val_loss / len(val_dataloader)\n",
        "    avg_val_acc = total_val_correct / len(val_dataloader.dataset)\n",
        "\n",
        "    return avg_val_loss, avg_val_acc\n",
        "\n",
        "def run(epochs, model, optimizer, loss_fn, train_loader, valid_loader):\n",
        "    train_loss_log = []\n",
        "    val_loss_log = []\n",
        "    train_acc_log = []\n",
        "    val_acc_log = []\n",
        "\n",
        "    for epoch in tqdm(range(epochs)):\n",
        "        avg_train_loss, avg_train_acc = train_epoch(model, optimizer, loss_fn, train_loader, valid_loader)\n",
        "        avg_val_loss, avg_val_acc = test_epoch(model, loss_fn, valid_loader)\n",
        "        train_loss_log.append(avg_train_loss)\n",
        "        val_loss_log.append(avg_val_loss)\n",
        "        train_acc_log.append(avg_train_acc)\n",
        "        val_acc_log.append(avg_val_acc)\n",
        "        print(f'Epoch: {epoch}, Train Loss: {avg_train_loss:.3f}, Val Loss: {avg_val_loss:.3f} \\\n",
        "    | Train Acc: {avg_train_acc:.3f}, Val Acc: {avg_val_acc:.3f}')\n",
        "    return train_loss_log, train_acc_log, val_loss_log, val_acc_log"
      ]
    },
    {
      "cell_type": "code",
      "source": [
        "model = model.to(device)\n",
        "optimizer = torch.optim.Adam(model.parameters(), lr=0.001)\n",
        "loss_fn = nn.CrossEntropyLoss()"
      ],
      "metadata": {
        "id": "8r-Qt4ZRmaZD"
      },
      "execution_count": null,
      "outputs": []
    },
    {
      "cell_type": "markdown",
      "metadata": {
        "id": "PHQrMfNpfkrb"
      },
      "source": [
        "## 開始訓練"
      ]
    },
    {
      "cell_type": "code",
      "source": [
        "logs = run(30, model, optimizer, loss_fn, train_loader, val_loader)"
      ],
      "metadata": {
        "id": "uqKF5hkBmWb2"
      },
      "execution_count": null,
      "outputs": []
    },
    {
      "cell_type": "markdown",
      "metadata": {
        "id": "xp9kHuFJjWQX"
      },
      "source": [
        "## 測試資料 (模擬沒有答案的測試資料)"
      ]
    },
    {
      "cell_type": "code",
      "source": [
        "class TestDataset(torch.utils.data.Dataset):\n",
        "    def __init__(self, df):\n",
        "        self.df = df\n",
        "        # No random rotation\n",
        "        self.transform = T.Compose([\n",
        "            T.Resize((256, 256)),\n",
        "            T.ToTensor(),\n",
        "        ])\n",
        "\n",
        "    def __len__(self):\n",
        "        return len(self.df)\n",
        "\n",
        "    def __getitem__(self, idx):\n",
        "        img_path = self.df.iloc[idx, 0]\n",
        "        img = Image.open(img_path)\n",
        "        img = self.transform(img)\n",
        "        label = self.df.iloc[idx, 1]\n",
        "        return img, label\n",
        "\n",
        "test_dataset = TestDataset(test_data)\n",
        "test_loader = torch.utils.data.DataLoader(test_dataset, batch_size=BATCH_SIZE, shuffle=False)"
      ],
      "metadata": {
        "id": "UVshaMsMne6z"
      },
      "execution_count": null,
      "outputs": []
    },
    {
      "cell_type": "code",
      "source": [
        "# Inference\n",
        "model.eval()\n",
        "y_pred_list = []\n",
        "y_true_list = []\n",
        "\n",
        "with torch.no_grad():\n",
        "    for x, y in test_loader:\n",
        "        x = x.to(device)\n",
        "        y_pred = model(x)\n",
        "        y_pred_list.append(y_pred)\n",
        "        y_true_list.append(y)\n",
        "\n",
        "y_pred_list = torch.cat(y_pred_list, dim=0)\n",
        "y_true_list = torch.cat(y_true_list, dim=0)\n"
      ],
      "metadata": {
        "id": "-rsOFdT3nqZu"
      },
      "execution_count": null,
      "outputs": []
    },
    {
      "cell_type": "code",
      "execution_count": null,
      "metadata": {
        "id": "8RiYZshofkrc"
      },
      "outputs": [],
      "source": [
        "print(y_pred_list[:5])"
      ]
    },
    {
      "cell_type": "markdown",
      "metadata": {
        "id": "WXhHAIcIfkrc"
      },
      "source": [
        "## 解析模型預測結果，並填入Dataframe中"
      ]
    },
    {
      "cell_type": "code",
      "execution_count": null,
      "metadata": {
        "id": "dwaVstKIfkrc"
      },
      "outputs": [],
      "source": [
        "preditc_label = y_pred_list.argmax(dim=1).cpu().numpy()"
      ]
    },
    {
      "cell_type": "code",
      "execution_count": null,
      "metadata": {
        "id": "XL1v2bkofkrc"
      },
      "outputs": [],
      "source": [
        "test_df = pd.DataFrame({\n",
        "    'file_name': test_data['file_name'],\n",
        "    'prediction': preditc_label\n",
        "})\n"
      ]
    },
    {
      "cell_type": "code",
      "execution_count": null,
      "metadata": {
        "id": "StHJoHv_fkrc"
      },
      "outputs": [],
      "source": [
        "test_df.head()"
      ]
    },
    {
      "cell_type": "code",
      "execution_count": null,
      "metadata": {
        "id": "Cp7EzMOIfkrc"
      },
      "outputs": [],
      "source": []
    }
  ],
  "metadata": {
    "accelerator": "GPU",
    "colab": {
      "gpuType": "T4",
      "provenance": []
    },
    "kernelspec": {
      "display_name": "Python 3 (ipykernel)",
      "language": "python",
      "name": "python3"
    },
    "language_info": {
      "codemirror_mode": {
        "name": "ipython",
        "version": 3
      },
      "file_extension": ".py",
      "mimetype": "text/x-python",
      "name": "python",
      "nbconvert_exporter": "python",
      "pygments_lexer": "ipython3",
      "version": "3.7.12"
    }
  },
  "nbformat": 4,
  "nbformat_minor": 0
}