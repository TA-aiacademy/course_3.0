{
 "cells": [
  {
   "cell_type": "markdown",
   "id": "136a37a5",
   "metadata": {},
   "source": [
    "# Data Augmentation"
   ]
  },
  {
   "cell_type": "markdown",
   "id": "cf23447d",
   "metadata": {},
   "source": [
    "## 本章節大綱\n",
    "* [讀取資料](#讀取資料)\n",
    "* [建立模型並訓練](#建立模型並訓練)\n",
    "* [亮度 Brightness](#亮度-Brightness)\n",
    "* [色調 Hue](#色調-Hue)\n",
    "* [飽和度 Saturation](#飽和度-Saturation)\n",
    "* [品質 Quality](品質-Quality)\n",
    "* [翻轉 Flip](翻轉-Flip)\n",
    "* [旋轉 Rotation](#旋轉-Rotation)\n",
    "* [裁剪 Crop](#裁剪-Crop)\n",
    "* [隨機 Zoom](#縮放-Zoom)\n",
    "* [隨機高度 RandomHeight](#隨機高度-RandomHeight)\n",
    "* [隨機寬度 RandomWidth](#隨機寬度-RandomWidth)\n",
    "* [隨機平移 RandomTranslation](#隨機平移-RandomTranslation)\n",
    "* [綜合](#整合)\n",
    "* [加快資料讀取速度](#加快資料讀取速度)\n"
   ]
  },
  {
   "cell_type": "markdown",
   "id": "6a8eaef7",
   "metadata": {},
   "source": [
    "## 匯入套件\n"
   ]
  },
  {
   "cell_type": "code",
   "execution_count": null,
   "id": "8af0c23d",
   "metadata": {
    "tags": []
   },
   "outputs": [],
   "source": [
    "import pandas as pd\n",
    "import numpy as np\n",
    "import matplotlib.pyplot as plt\n",
    "import cv2\n",
    "import glob  # 讀取特定格式路徑\n",
    "\n",
    "import tensorflow as tf\n",
    "from tensorflow.keras import layers"
   ]
  },
  {
   "cell_type": "markdown",
   "id": "d8602ab2",
   "metadata": {},
   "source": [
    "## 讀取路徑"
   ]
  },
  {
   "cell_type": "code",
   "execution_count": null,
   "id": "c6de18b5",
   "metadata": {},
   "outputs": [],
   "source": [
    "# upload Data\n",
    "!wget -q https://github.com/TA-aiacademy/course_3.0/releases/download/CVCNN_Data/cat_dog.zip\n",
    "!unzip -q cat_dog"
   ]
  },
  {
   "cell_type": "code",
   "execution_count": null,
   "id": "5c4580ab",
   "metadata": {},
   "outputs": [],
   "source": [
    "print(glob.glob('*'))  # 查看現在資料夾底下所有東西"
   ]
  },
  {
   "cell_type": "code",
   "execution_count": null,
   "id": "e4673a70",
   "metadata": {},
   "outputs": [],
   "source": [
    "print(glob.glob('cat_dog/*'))  # 查看 cat_dog 資料夾底下所有東西"
   ]
  },
  {
   "cell_type": "code",
   "execution_count": null,
   "id": "1f369a52",
   "metadata": {},
   "outputs": [],
   "source": [
    "print(glob.glob('cat_dog/*/*')[:5])  # 查看 cat_dog 資料夾底下兩層所有東西"
   ]
  },
  {
   "cell_type": "code",
   "execution_count": null,
   "id": "cc9233f7",
   "metadata": {},
   "outputs": [],
   "source": [
    "# 建立一個字典來存放路徑跟標籤資訊\n",
    "data_dict={'file_name': [], 'type': []}\n",
    "# 只拿 train 資料中的 .jpg 檔案\n",
    "for i in glob.glob('cat_dog/train/*.jpg'):\n",
    "    # i 會類似 cat_dog/train/cat.11996.jpg \n",
    "    data_dict['file_name'].append(i)\n",
    "    # 字串處理取出檔案名稱前三個字元來判斷類別\n",
    "    animal = i.split('/')[-1][:3]\n",
    "    if animal == 'cat': \n",
    "        data_dict['type'].append(0)\n",
    "    elif animal == 'dog':\n",
    "        data_dict['type'].append(1)\n",
    "    else:\n",
    "        print(i)"
   ]
  },
  {
   "cell_type": "code",
   "execution_count": null,
   "id": "a54ce010",
   "metadata": {},
   "outputs": [],
   "source": [
    "# 將字典轉換成 DataFrame\n",
    "datalist = pd.DataFrame(data_dict)"
   ]
  },
  {
   "cell_type": "code",
   "execution_count": null,
   "id": "fdfdf3b4",
   "metadata": {},
   "outputs": [],
   "source": [
    "datalist.head()"
   ]
  },
  {
   "cell_type": "code",
   "execution_count": null,
   "id": "44d4f96b",
   "metadata": {},
   "outputs": [],
   "source": [
    "import random\n",
    "def my_preprocess(img_path, img_label):\n",
    "    image = tf.io.read_file(img_path)\n",
    "    image = tf.image.decode_jpeg(image, channels=3)\n",
    "    \n",
    "    return image, tf.one_hot(img_label, depth=2)  # depth=類別數量"
   ]
  },
  {
   "cell_type": "markdown",
   "id": "2cb633a9",
   "metadata": {},
   "source": [
    "## 製造一個 dataset 讀取資料"
   ]
  },
  {
   "cell_type": "code",
   "execution_count": null,
   "id": "ddaad792",
   "metadata": {},
   "outputs": [],
   "source": [
    "# 使用 tf.data.Dataset 製造一個 Dataset\n",
    "path = data_dict['file_name']\n",
    "label = data_dict['type']\n",
    "dataset = tf.data.Dataset.from_tensor_slices((path, label))\n",
    "dataset = dataset.map(lambda path, label: my_preprocess(path, label))  #讀取資料"
   ]
  },
  {
   "cell_type": "code",
   "execution_count": null,
   "id": "0fa46094",
   "metadata": {},
   "outputs": [],
   "source": [
    "# 畫圖\n",
    "def my_plot(datas):\n",
    "    plt.figure(figsize=(13, 7))\n",
    "    for i,data in enumerate(datas):\n",
    "        plt.subplot(2, 4, i+1)\n",
    "        plt.imshow(data[0].numpy().astype('uint8'))\n",
    "        plt.title(\"Label: {}\".format(data[1]), fontsize=16)\n",
    "    plt.show()\n",
    "    \n",
    "\n",
    "my_plot(dataset.take(8))"
   ]
  },
  {
   "cell_type": "markdown",
   "id": "6ccf2fb4",
   "metadata": {},
   "source": [
    "---\n",
    "# 資料擴增\n",
    "\n",
    "## 圖像數值調整使用 tf.image\n",
    "- 圖像數值：亮度、對比度、色調、飽和度、品質、翻轉\n",
    "\n",
    "## 圖像形狀調整使用 tf.keras.layers\n",
    "- 圖像形狀：剪裁、翻轉、旋轉、縮放、高度、寬度\n",
    "---"
   ]
  },
  {
   "cell_type": "markdown",
   "id": "88a39f80",
   "metadata": {},
   "source": [
    "# Augmentation - tf.image\n",
    "\n",
    "* ## 亮度 Brightness\n",
    "\n",
    " * max_delta：調整的幅度，0 ~ 1"
   ]
  },
  {
   "cell_type": "code",
   "execution_count": null,
   "id": "00875cc6",
   "metadata": {},
   "outputs": [],
   "source": [
    "def my_preprocess(img_path, img_label):\n",
    "    image = tf.io.read_file(img_path)\n",
    "    image = tf.image.decode_jpeg(image, channels=3)\n",
    "    # 亮度\n",
    "    image = tf.image.random_brightness(image, \n",
    "                                       max_delta=0.4) \n",
    "    return image, tf.one_hot(img_label, depth=2)\n",
    "\n",
    "dataset = tf.data.Dataset.from_tensor_slices((path, label))\n",
    "dataset = dataset.map(lambda path, label: my_preprocess(path, label))"
   ]
  },
  {
   "cell_type": "code",
   "execution_count": null,
   "id": "013cceba",
   "metadata": {},
   "outputs": [],
   "source": [
    "my_plot(dataset.take(8))"
   ]
  },
  {
   "cell_type": "markdown",
   "id": "9ab0e764",
   "metadata": {},
   "source": [
    "[(back...)](#本章節大綱)"
   ]
  },
  {
   "cell_type": "markdown",
   "id": "445687a7",
   "metadata": {},
   "source": [
    "* ## 對比度 Contrast\n",
    "\n",
    " * lower：對比下限，0 ~ 1\n",
    " * upper：對比上限，0 ~ 1"
   ]
  },
  {
   "cell_type": "code",
   "execution_count": null,
   "id": "50fac7ff",
   "metadata": {},
   "outputs": [],
   "source": [
    "def my_preprocess(img_path, img_label):\n",
    "    image = tf.io.read_file(img_path)\n",
    "    image = tf.image.decode_jpeg(image, channels=3)\n",
    "    # 對比度\n",
    "    image = tf.image.random_contrast(image,\n",
    "                                     lower=0.2,\n",
    "                                     upper=0.7)\n",
    "    \n",
    "    return image, tf.one_hot(img_label, depth=2) \n",
    "\n",
    "dataset = tf.data.Dataset.from_tensor_slices((path, label))\n",
    "dataset = dataset.map(lambda path, label: my_preprocess(path, label))"
   ]
  },
  {
   "cell_type": "code",
   "execution_count": null,
   "id": "f56ce408",
   "metadata": {},
   "outputs": [],
   "source": [
    "my_plot(dataset.take(8))"
   ]
  },
  {
   "cell_type": "markdown",
   "id": "96e88267",
   "metadata": {},
   "source": [
    "* ## 色調 Hue\n",
    "\n",
    " * max_delta：調整範圍，0 ~ 1"
   ]
  },
  {
   "cell_type": "code",
   "execution_count": null,
   "id": "76cb2e5c",
   "metadata": {},
   "outputs": [],
   "source": [
    "def my_preprocess(img_path, img_label):\n",
    "    image = tf.io.read_file(img_path)\n",
    "    image = tf.image.decode_jpeg(image, channels=3)\n",
    "    # 色調\n",
    "    image = tf.image.random_hue(image,\n",
    "                                max_delta=0.4)\n",
    "    return image, tf.one_hot(img_label, depth=2)\n",
    "\n",
    "dataset = tf.data.Dataset.from_tensor_slices((path, label))\n",
    "dataset = dataset.map(lambda path, label: my_preprocess(path, label))"
   ]
  },
  {
   "cell_type": "code",
   "execution_count": null,
   "id": "2ffa82e2",
   "metadata": {},
   "outputs": [],
   "source": [
    "my_plot(dataset.take(8))"
   ]
  },
  {
   "cell_type": "markdown",
   "id": "ceb50b07",
   "metadata": {},
   "source": [
    "[(back...)](#本章節大綱)"
   ]
  },
  {
   "cell_type": "markdown",
   "id": "2d88a563",
   "metadata": {},
   "source": [
    "* ## 飽和度 Saturation\n",
    "\n",
    " * lower：飽和度下限\n",
    " * upper：飽和度上限"
   ]
  },
  {
   "cell_type": "code",
   "execution_count": null,
   "id": "e4359f8f",
   "metadata": {},
   "outputs": [],
   "source": [
    "def my_preprocess(img_path, img_label):\n",
    "    image = tf.io.read_file(img_path)\n",
    "    image = tf.image.decode_jpeg(image, channels=3)\n",
    "    # 飽和度\n",
    "    image = tf.image.random_saturation(image,\n",
    "                                       lower=2,\n",
    "                                       upper=5)\n",
    "    return image, tf.one_hot(img_label, depth=2) \n",
    "\n",
    "dataset = tf.data.Dataset.from_tensor_slices((path, label))\n",
    "dataset = dataset.map(lambda path, label: my_preprocess(path, label))"
   ]
  },
  {
   "cell_type": "code",
   "execution_count": null,
   "id": "85ebfd11",
   "metadata": {},
   "outputs": [],
   "source": [
    "my_plot(dataset.take(8))"
   ]
  },
  {
   "cell_type": "markdown",
   "id": "eea619db",
   "metadata": {},
   "source": [
    "[(back...)](#本章節大綱)"
   ]
  },
  {
   "cell_type": "markdown",
   "id": "c3e82fdf",
   "metadata": {},
   "source": [
    "* ## 品質 Quality\n",
    " * min_jpeg_quality：品質下限，0 ~ 100\n",
    " * max_jpeg_quality：品質上限，0 ~ 100"
   ]
  },
  {
   "cell_type": "code",
   "execution_count": null,
   "id": "30023d56",
   "metadata": {},
   "outputs": [],
   "source": [
    "def my_preprocess(img_path, img_label):\n",
    "    image = tf.io.read_file(img_path)\n",
    "    image = tf.image.decode_jpeg(image, channels=3)\n",
    "    # 品質\n",
    "    image = tf.image.random_jpeg_quality(image,\n",
    "                                         min_jpeg_quality=0,\n",
    "                                         max_jpeg_quality=100)\n",
    "    return image, tf.one_hot(img_label, depth=2) \n",
    "\n",
    "dataset = tf.data.Dataset.from_tensor_slices((path, label))\n",
    "dataset = dataset.map(lambda path, label: my_preprocess(path, label))"
   ]
  },
  {
   "cell_type": "code",
   "execution_count": null,
   "id": "dfc9b2f7",
   "metadata": {},
   "outputs": [],
   "source": [
    "my_plot(dataset.take(8))"
   ]
  },
  {
   "cell_type": "markdown",
   "id": "7559488f",
   "metadata": {},
   "source": [
    "[(back...)](#本章節大綱)"
   ]
  },
  {
   "cell_type": "markdown",
   "id": "ebc1365d",
   "metadata": {},
   "source": [
    "* ## 翻轉 Flip\n",
    "\n",
    " * random_flip_left_right：隨機水平翻轉\n",
    " * random_flip_up_down：隨機垂直翻轉\n"
   ]
  },
  {
   "cell_type": "code",
   "execution_count": null,
   "id": "60934cb8",
   "metadata": {},
   "outputs": [],
   "source": [
    "def my_preprocess(img_path, img_label):\n",
    "    image = tf.io.read_file(img_path)\n",
    "    image = tf.image.decode_jpeg(image, channels=3)\n",
    "    # 水平與垂直翻轉\n",
    "    image = tf.image.random_flip_left_right(image)\n",
    "    image = tf.image.random_flip_up_down(image)\n",
    "    return image, tf.one_hot(img_label, depth=2) \n",
    "\n",
    "dataset = tf.data.Dataset.from_tensor_slices((path, label))\n",
    "dataset = dataset.map(lambda path, label: my_preprocess(path, label))"
   ]
  },
  {
   "cell_type": "code",
   "execution_count": null,
   "id": "58111a96",
   "metadata": {},
   "outputs": [],
   "source": [
    "my_plot(dataset.take(8))"
   ]
  },
  {
   "cell_type": "markdown",
   "id": "06aa8904",
   "metadata": {},
   "source": [
    "# Augmentation - Layers\n",
    "用將擴增方式寫入 keras layer 中"
   ]
  },
  {
   "cell_type": "markdown",
   "id": "ce1bbfdc",
   "metadata": {},
   "source": [
    "- 重新定義 preprocess function, myplot"
   ]
  },
  {
   "cell_type": "code",
   "execution_count": null,
   "id": "e3e2b022",
   "metadata": {},
   "outputs": [],
   "source": [
    "def my_preprocess(img_path, img_label):\n",
    "    image = tf.io.read_file(img_path)\n",
    "    image = tf.image.decode_jpeg(image, channels=3)\n",
    "\n",
    "    return image, tf.one_hot(img_label, depth=2) \n",
    "\n",
    "dataset = tf.data.Dataset.from_tensor_slices((path, label))\n",
    "dataset = dataset.map(lambda path, label: my_preprocess(path, label))"
   ]
  },
  {
   "cell_type": "markdown",
   "id": "40cd1cfe",
   "metadata": {},
   "source": [
    "* ## 翻轉 Flip\n",
    "\n",
    " * horizontal_and_vertical：隨機水平垂直翻轉\n",
    " * vertical：隨機垂直翻轉\n",
    " * horizontal：隨機水平翻轉\n"
   ]
  },
  {
   "cell_type": "code",
   "execution_count": null,
   "id": "910fbb94",
   "metadata": {},
   "outputs": [],
   "source": [
    "my_data_augmentation = tf.keras.Sequential(\n",
    "    [\n",
    "        layers.RandomFlip(\"horizontal_and_vertical\"),\n",
    "    ]\n",
    ")"
   ]
  },
  {
   "cell_type": "code",
   "execution_count": null,
   "id": "78a93c87",
   "metadata": {},
   "outputs": [],
   "source": [
    "augment_dataset = dataset.map(lambda x, y: (my_data_augmentation(x), y))\n",
    "my_plot(augment_dataset.take(8))"
   ]
  },
  {
   "cell_type": "markdown",
   "id": "2b58c16f",
   "metadata": {},
   "source": [
    "[(back...)](#本章節大綱)"
   ]
  },
  {
   "cell_type": "markdown",
   "id": "b7ae6bed",
   "metadata": {},
   "source": [
    "* ## 旋轉 Rotation\n",
    "\n",
    " * factor：旋轉角度百分比，(-0.2, 0.3) 代表從-20% * 2pi ~ 30% * 2pi 的區間旋轉 \n",
    " * fill_mode：超過邊界填補方法，有 'nearest', 'constant', 'reflect', 'wrap'，四種方法可選擇 (default：'reflect')\n",
    " \n",
    "    - reflect: (d c b a | a b c d | d c b a) The input is extended by reflecting about the edge of the last pixel.\n",
    "    - constant: (k k k k | a b c d | k k k k) The input is extended by filling all values beyond the edge with the same constant value k = 0.\n",
    "    - wrap: (a b c d | a b c d | a b c d) The input is extended by wrapping around to the opposite edge.\n",
    "    - nearest: (a a a a | a b c d | d d d d) The input is extended by the nearest pixel.\n"
   ]
  },
  {
   "cell_type": "code",
   "execution_count": null,
   "id": "2aac5f10",
   "metadata": {},
   "outputs": [],
   "source": [
    "my_data_augmentation = tf.keras.Sequential(\n",
    "    [\n",
    "        layers.RandomRotation(factor=(-0.3, 0.3),\n",
    "                              fill_mode=\"reflect\")\n",
    "    ]\n",
    ")"
   ]
  },
  {
   "cell_type": "code",
   "execution_count": null,
   "id": "09012f8a",
   "metadata": {},
   "outputs": [],
   "source": [
    "augment_dataset = dataset.map(lambda x, y: (my_data_augmentation(x), y))\n",
    "my_plot(augment_dataset.take(8))"
   ]
  },
  {
   "cell_type": "markdown",
   "id": "77ac2555",
   "metadata": {},
   "source": [
    "[(back...)](#本章節大綱)"
   ]
  },
  {
   "cell_type": "markdown",
   "id": "1e2f626d",
   "metadata": {},
   "source": [
    "* ## 裁剪 Crop\n",
    "\n",
    " * height：裁減高度 \n",
    " * width：裁減寬度\n"
   ]
  },
  {
   "cell_type": "code",
   "execution_count": null,
   "id": "1210006f",
   "metadata": {},
   "outputs": [],
   "source": [
    "my_data_augmentation = tf.keras.Sequential(\n",
    "    [\n",
    "        layers.RandomCrop(height=100,\n",
    "                          width=100)\n",
    "    ]\n",
    ")"
   ]
  },
  {
   "cell_type": "code",
   "execution_count": null,
   "id": "2beffced",
   "metadata": {},
   "outputs": [],
   "source": [
    "augment_dataset = dataset.map(lambda x, y: (my_data_augmentation(x), y))\n",
    "my_plot(augment_dataset.take(8))"
   ]
  },
  {
   "cell_type": "markdown",
   "id": "e210ddb3",
   "metadata": {},
   "source": [
    "[(back...)](#本章節大綱)"
   ]
  },
  {
   "cell_type": "markdown",
   "id": "454a3d44",
   "metadata": {},
   "source": [
    "* ## 縮放 Zoom\n",
    " * height_factor：高度調整比例，(-0.1, 0.1) 代表從-10% ~ 10%的區間縮放\n",
    " * width_factor：寬度調整比例，(-0.1, 0.1) 代表從-10% ~ 10%的區間縮放\n",
    " * fill_mode：超過邊界填補方法，有 'nearest', 'constant', 'reflect', 'wrap'，四種方法可選擇 (default：'reflect')\n",
    "     - reflect: (d c b a | a b c d | d c b a) The input is extended by reflecting about the edge of the last pixel.\n",
    "     - constant: (k k k k | a b c d | k k k k) The input is extended by filling all values beyond the edge with the same constant value k = 0.\n",
    "     - wrap: (a b c d | a b c d | a b c d) The input is extended by wrapping around to the opposite edge.\n",
    "     - nearest: (a a a a | a b c d | d d d d) The input is extended by the nearest pixel."
   ]
  },
  {
   "cell_type": "code",
   "execution_count": null,
   "id": "26ca8801",
   "metadata": {},
   "outputs": [],
   "source": [
    "my_data_augmentation = tf.keras.Sequential(\n",
    "    [\n",
    "        layers.RandomZoom(height_factor=(-0.5, 0.5),\n",
    "                          width_factor=(-0.5, 0.5),\n",
    "                          fill_mode=\"nearest\")                          \n",
    "    ]\n",
    ")"
   ]
  },
  {
   "cell_type": "code",
   "execution_count": null,
   "id": "22048aa8",
   "metadata": {},
   "outputs": [],
   "source": [
    "augment_dataset = dataset.map(lambda x, y: (my_data_augmentation(x), y))\n",
    "my_plot(augment_dataset.take(8))"
   ]
  },
  {
   "cell_type": "markdown",
   "id": "4fe363e2",
   "metadata": {},
   "source": [
    "[(back...)](#本章節大綱)"
   ]
  },
  {
   "cell_type": "markdown",
   "id": "60886691",
   "metadata": {},
   "source": [
    "* ## 隨機高度 RandomHeight\n",
    "\n",
    " * factor：調整比例，(-0.1, 0.1) 代表從-10% ~ 10%的區間縮放\n",
    " * interpolation：填補方法\n"
   ]
  },
  {
   "cell_type": "code",
   "execution_count": null,
   "id": "6b67eb3a",
   "metadata": {},
   "outputs": [],
   "source": [
    "my_data_augmentation = tf.keras.Sequential(\n",
    "    [\n",
    "        layers.RandomHeight(factor=(-0.8, 0.8),\n",
    "                            interpolation='bilinear')\n",
    "    ]\n",
    ")"
   ]
  },
  {
   "cell_type": "code",
   "execution_count": null,
   "id": "36363cf0",
   "metadata": {},
   "outputs": [],
   "source": [
    "augment_dataset = dataset.map(lambda x, y: (my_data_augmentation(x), y))\n",
    "my_plot(augment_dataset.take(8))"
   ]
  },
  {
   "cell_type": "markdown",
   "id": "9db05764",
   "metadata": {},
   "source": [
    "[(back...)](#本章節大綱)"
   ]
  },
  {
   "cell_type": "markdown",
   "id": "dd39c1f7",
   "metadata": {},
   "source": [
    "* ## 隨機寬度 RandomWidth\n",
    "\n",
    " * factor：調整比例，(-0.1, 0.1) 代表從-10% ~ 10%的區間縮放\n",
    " * interpolation：填補方法"
   ]
  },
  {
   "cell_type": "code",
   "execution_count": null,
   "id": "cf248261",
   "metadata": {},
   "outputs": [],
   "source": [
    "my_data_augmentation = tf.keras.Sequential(\n",
    "    [\n",
    "        layers.RandomWidth(factor=(-0.8, 0.8),\n",
    "                           interpolation='bilinear')\n",
    "    ]\n",
    ")"
   ]
  },
  {
   "cell_type": "code",
   "execution_count": null,
   "id": "02b12f9b",
   "metadata": {},
   "outputs": [],
   "source": [
    "augment_dataset = dataset.map(lambda x, y: (my_data_augmentation(x), y))\n",
    "my_plot(augment_dataset.take(8))"
   ]
  },
  {
   "cell_type": "markdown",
   "id": "f843e790",
   "metadata": {},
   "source": [
    "[(back...)](#本章節大綱)"
   ]
  },
  {
   "cell_type": "markdown",
   "id": "f8559c12",
   "metadata": {},
   "source": [
    "* ## 隨機平移 RandomTranslation\n",
    " * height_factor：高度調整比例，(-0.1, 0.1) 代表從-10% ~ 10%的區間平移\n",
    " * width_factor：寬度調整比例，(-0.1, 0.1) 代表從-10% ~ 10%的區間平移\n",
    " * fill_mode：超過邊界填補方法，有 'nearest', 'constant', 'reflect', 'wrap'，四種方法可選擇 (default：'reflect')\n",
    "     - reflect: (d c b a | a b c d | d c b a) The input is extended by reflecting about the edge of the last pixel.\n",
    "     - constant: (k k k k | a b c d | k k k k) The input is extended by filling all values beyond the edge with the same constant value k = 0.\n",
    "     - wrap: (a b c d | a b c d | a b c d) The input is extended by wrapping around to the opposite edge.\n",
    "     - nearest: (a a a a | a b c d | d d d d) The input is extended by the nearest pixel."
   ]
  },
  {
   "cell_type": "code",
   "execution_count": null,
   "id": "1048c684",
   "metadata": {},
   "outputs": [],
   "source": [
    "my_data_augmentation = tf.keras.Sequential(\n",
    "    [\n",
    "        layers.RandomTranslation(height_factor=(-0.3, 0.3),\n",
    "                                 width_factor=(-0.3, 0.3),\n",
    "                                 fill_mode=\"reflect\")\n",
    "    ]\n",
    ")"
   ]
  },
  {
   "cell_type": "code",
   "execution_count": null,
   "id": "866b70b6",
   "metadata": {},
   "outputs": [],
   "source": [
    "augment_dataset = dataset.map(lambda x, y: (my_data_augmentation(x), y))\n",
    "my_plot(augment_dataset.take(8))"
   ]
  },
  {
   "cell_type": "markdown",
   "id": "421562d0",
   "metadata": {},
   "source": [
    "[(back...)](#本章節大綱)"
   ]
  },
  {
   "cell_type": "markdown",
   "id": "2a9c0098",
   "metadata": {},
   "source": [
    "# 整合"
   ]
  },
  {
   "cell_type": "code",
   "execution_count": null,
   "id": "94c64bb8",
   "metadata": {},
   "outputs": [],
   "source": [
    "def my_preprocess(img_path, img_label):\n",
    "    image = tf.io.read_file(img_path)\n",
    "    image = tf.image.decode_jpeg(image, channels=3)\n",
    "\n",
    "    # 亮度\n",
    "    image = tf.image.random_brightness(image, \n",
    "                                       max_delta=0.2)\n",
    "    # 對比度\n",
    "    image = tf.image.random_contrast(image,\n",
    "                                     lower=0.5,\n",
    "                                     upper=1)\n",
    "    # 色調\n",
    "    image = tf.image.random_hue(image,\n",
    "                                max_delta=0.4)\n",
    "    # 飽和度\n",
    "    image = tf.image.random_saturation(image,\n",
    "                                       lower=1,\n",
    "                                       upper=5)\n",
    "    # 品質\n",
    "    image = tf.image.random_jpeg_quality(image,\n",
    "                                         min_jpeg_quality=20,\n",
    "                                         max_jpeg_quality=100)\n",
    "    return  image, tf.one_hot(img_label, depth=2) \n",
    "\n",
    "dataset = tf.data.Dataset.from_tensor_slices((path, label))\n",
    "dataset = dataset.map(lambda path, label: my_preprocess(path, label))"
   ]
  },
  {
   "cell_type": "code",
   "execution_count": null,
   "id": "5d18cbd8",
   "metadata": {},
   "outputs": [],
   "source": [
    "my_data_augmentation = tf.keras.Sequential(\n",
    "    [\n",
    "        # 旋轉\n",
    "        layers.RandomFlip(\"horizontal_and_vertical\"),\n",
    "        # 裁剪\n",
    "        layers.RandomCrop(height=230,\n",
    "                          width=230),\n",
    "        # 隨機高度\n",
    "        layers.RandomHeight(factor=(-0.3, 0.3),\n",
    "                            interpolation='bilinear'),\n",
    "        # 隨機寬度\n",
    "        layers.RandomWidth(factor=(-0.3, 0.3),\n",
    "                            interpolation='bilinear'),\n",
    "        # 隨機縮放\n",
    "        layers.RandomZoom(height_factor=(-0.3, 0.3),\n",
    "                          width_factor=(-0.3, 0.3),\n",
    "                          fill_mode=\"nearest\"),\n",
    "        # 隨機平移\n",
    "        layers.RandomTranslation(height_factor=(-0.3, 0.3),\n",
    "                          width_factor=(-0.3, 0.3),\n",
    "                          fill_mode=\"reflect\"),           \n",
    "    ]\n",
    ")"
   ]
  },
  {
   "cell_type": "code",
   "execution_count": null,
   "id": "7b3d2eab",
   "metadata": {},
   "outputs": [],
   "source": [
    "augment_dataset = dataset.map(lambda x, y: (my_data_augmentation(x), y))\n",
    "my_plot(augment_dataset.take(8))"
   ]
  },
  {
   "cell_type": "markdown",
   "id": "f0f54f93",
   "metadata": {},
   "source": [
    "* ## 加快資料讀取速度"
   ]
  },
  {
   "cell_type": "markdown",
   "id": "c655eb18",
   "metadata": {},
   "source": [
    "- 在讀取資料時能使用的dataset優化在 DL Part4 中 1_Custom_dataset.ipynb 有提到"
   ]
  },
  {
   "cell_type": "code",
   "execution_count": null,
   "id": "26a126e4",
   "metadata": {},
   "outputs": [],
   "source": [
    "import time\n",
    "start_time = time.time()\n",
    "for i in augment_dataset.take(1000):\n",
    "    pass\n",
    "print(time.time()-start_time)  # 原本讀取一千筆資料的速度"
   ]
  },
  {
   "cell_type": "code",
   "execution_count": null,
   "id": "b01a8139",
   "metadata": {},
   "outputs": [],
   "source": [
    "# 使用 num_parallel_calls 平行化讀資料過程，可以加快速度\n",
    "dataset = tf.data.Dataset.from_tensor_slices((path, label))\n",
    "dataset = dataset.map(lambda path, label: my_preprocess(path, label),\n",
    "                      num_parallel_calls=tf.data.AUTOTUNE)\n",
    "augment_dataset = dataset.map(lambda x, y: (my_data_augmentation(x), y),\n",
    "                              num_parallel_calls=tf.data.AUTOTUNE)\n",
    "\n",
    "import time\n",
    "start_time = time.time()\n",
    "for i in augment_dataset.take(1000):\n",
    "    pass\n",
    "print(time.time()-start_time)  # 平行運算後的速度"
   ]
  },
  {
   "cell_type": "code",
   "execution_count": null,
   "id": "50966759",
   "metadata": {},
   "outputs": [],
   "source": []
  }
 ],
 "metadata": {
  "kernelspec": {
   "display_name": "Python 3 (ipykernel)",
   "language": "python",
   "name": "python3"
  },
  "language_info": {
   "codemirror_mode": {
    "name": "ipython",
    "version": 3
   },
   "file_extension": ".py",
   "mimetype": "text/x-python",
   "name": "python",
   "nbconvert_exporter": "python",
   "pygments_lexer": "ipython3",
   "version": "3.7.12"
  }
 },
 "nbformat": 4,
 "nbformat_minor": 5
}
